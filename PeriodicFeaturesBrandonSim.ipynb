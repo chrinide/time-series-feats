{
 "metadata": {
  "name": "",
  "signature": "sha256:9d49066fdfa37b8653f75cb0343b9202a940cc6ae7e2c5bfc8cabc2a177490d5"
 },
 "nbformat": 3,
 "nbformat_minor": 0,
 "worksheets": [
  {
   "cells": [
    {
     "cell_type": "code",
     "collapsed": false,
     "input": [
      "%matplotlib inline\n",
      "import numpy as np\n",
      "import matplotlib.pyplot as plt\n",
      "import seaborn as sns\n",
      "import statsmodels.graphics.tsaplots as tsaplots\n",
      "from  statsmodels.tsa import stattools\n",
      "import pandas \n",
      "from create_table import Table\n",
      "import FATS as F"
     ],
     "language": "python",
     "metadata": {},
     "outputs": [],
     "prompt_number": 23
    },
    {
     "cell_type": "code",
     "collapsed": false,
     "input": [
      "#We open the ligth curve in two different bands\n",
      "lc_B = F.ReadLC_MACHO('lc_1.3444.614.B.mjd')  #58.6272.729 1.3444.614 1.4652.1527\n",
      "lc_R = F.ReadLC_MACHO('lc_1.3444.614.R.mjd')\n",
      "\n",
      "#We import the data\n",
      "[data, mjd, error] = lc_B.ReadLC()\n",
      "[data2, mjd2, error2] = lc_R.ReadLC()\n",
      "\n",
      "#We preprocess the data\n",
      "preprocessed_data = F.Preprocess_LC(data, mjd, error)\n",
      "[data, mjd, error] = preprocessed_data.Preprocess()\n",
      "\n",
      "preprocessed_data = F.Preprocess_LC(data2, mjd2, error2)\n",
      "[second_data, mjd2, error2] = preprocessed_data.Preprocess()\n",
      "\n",
      "#We synchronize the data\n",
      "if len(data) != len(second_data):\n",
      "    [aligned_data, aligned_second_data, aligned_mjd] = F.Align_LC(mjd, mjd2, data, second_data, error, error2)"
     ],
     "language": "python",
     "metadata": {},
     "outputs": [],
     "prompt_number": 24
    },
    {
     "cell_type": "code",
     "collapsed": false,
     "input": [
      "# Testing\n",
      "\n",
      "a = F.FeatureSpace(featureList=['Std','StetsonL'])\n",
      "a=a.calculateFeature(data)\n",
      "\n",
      "Table(a)"
     ],
     "language": "python",
     "metadata": {},
     "outputs": [
      {
       "ename": "TypeError",
       "evalue": "object of type 'numpy.float64' has no len()",
       "output_type": "pyerr",
       "traceback": [
        "\u001b[0;31m---------------------------------------------------------------------------\u001b[0m\n\u001b[0;31mTypeError\u001b[0m                                 Traceback (most recent call last)",
        "\u001b[0;32m<ipython-input-26-39d39c9202bf>\u001b[0m in \u001b[0;36m<module>\u001b[0;34m()\u001b[0m\n\u001b[1;32m      2\u001b[0m \u001b[0;34m\u001b[0m\u001b[0m\n\u001b[1;32m      3\u001b[0m \u001b[0ma\u001b[0m \u001b[0;34m=\u001b[0m \u001b[0mF\u001b[0m\u001b[0;34m.\u001b[0m\u001b[0mFeatureSpace\u001b[0m\u001b[0;34m(\u001b[0m\u001b[0mfeatureList\u001b[0m\u001b[0;34m=\u001b[0m\u001b[0;34m[\u001b[0m\u001b[0;34m'Std'\u001b[0m\u001b[0;34m,\u001b[0m\u001b[0;34m'StetsonL'\u001b[0m\u001b[0;34m]\u001b[0m\u001b[0;34m)\u001b[0m\u001b[0;34m\u001b[0m\u001b[0m\n\u001b[0;32m----> 4\u001b[0;31m \u001b[0ma\u001b[0m\u001b[0;34m=\u001b[0m\u001b[0ma\u001b[0m\u001b[0;34m.\u001b[0m\u001b[0mcalculateFeature\u001b[0m\u001b[0;34m(\u001b[0m\u001b[0mdata\u001b[0m\u001b[0;34m)\u001b[0m\u001b[0;34m\u001b[0m\u001b[0m\n\u001b[0m\u001b[1;32m      5\u001b[0m \u001b[0;34m\u001b[0m\u001b[0m\n\u001b[1;32m      6\u001b[0m \u001b[0mTable\u001b[0m\u001b[0;34m(\u001b[0m\u001b[0ma\u001b[0m\u001b[0;34m)\u001b[0m\u001b[0;34m\u001b[0m\u001b[0m\n",
        "\u001b[0;32m/Users/isadoranun/Desktop/Features/FATS/FATS/Feature.pyc\u001b[0m in \u001b[0;36mcalculateFeature\u001b[0;34m(self, data)\u001b[0m\n\u001b[1;32m    105\u001b[0m         \u001b[0mself\u001b[0m\u001b[0;34m.\u001b[0m\u001b[0m__result\u001b[0m \u001b[0;34m=\u001b[0m \u001b[0;34m[\u001b[0m\u001b[0;34m]\u001b[0m\u001b[0;34m\u001b[0m\u001b[0m\n\u001b[1;32m    106\u001b[0m         \u001b[0;32mfor\u001b[0m \u001b[0mf\u001b[0m \u001b[0;32min\u001b[0m \u001b[0mself\u001b[0m\u001b[0;34m.\u001b[0m\u001b[0mfeatureFunc\u001b[0m\u001b[0;34m:\u001b[0m\u001b[0;34m\u001b[0m\u001b[0m\n\u001b[0;32m--> 107\u001b[0;31m             \u001b[0mself\u001b[0m\u001b[0;34m.\u001b[0m\u001b[0m__result\u001b[0m\u001b[0;34m.\u001b[0m\u001b[0mappend\u001b[0m\u001b[0;34m(\u001b[0m\u001b[0mf\u001b[0m\u001b[0;34m(\u001b[0m\u001b[0mself\u001b[0m\u001b[0;34m.\u001b[0m\u001b[0m_X\u001b[0m\u001b[0;34m)\u001b[0m\u001b[0;34m)\u001b[0m\u001b[0;34m\u001b[0m\u001b[0m\n\u001b[0m\u001b[1;32m    108\u001b[0m         \u001b[0;32mreturn\u001b[0m \u001b[0mself\u001b[0m\u001b[0;34m\u001b[0m\u001b[0m\n\u001b[1;32m    109\u001b[0m \u001b[0;34m\u001b[0m\u001b[0m\n",
        "\u001b[0;32m/Users/isadoranun/Desktop/Features/FATS/FATS/FeatureFunctionLib.pyc\u001b[0m in \u001b[0;36mfit\u001b[0;34m(self, data)\u001b[0m\n\u001b[1;32m    223\u001b[0m         \u001b[0maligned_magnitude2\u001b[0m \u001b[0;34m=\u001b[0m \u001b[0mdata\u001b[0m\u001b[0;34m[\u001b[0m\u001b[0;36m5\u001b[0m\u001b[0;34m]\u001b[0m\u001b[0;34m\u001b[0m\u001b[0m\n\u001b[1;32m    224\u001b[0m \u001b[0;34m\u001b[0m\u001b[0m\n\u001b[0;32m--> 225\u001b[0;31m         \u001b[0mN\u001b[0m \u001b[0;34m=\u001b[0m \u001b[0mlen\u001b[0m\u001b[0;34m(\u001b[0m\u001b[0maligned_magnitude\u001b[0m\u001b[0;34m)\u001b[0m\u001b[0;34m\u001b[0m\u001b[0m\n\u001b[0m\u001b[1;32m    226\u001b[0m \u001b[0;34m\u001b[0m\u001b[0m\n\u001b[1;32m    227\u001b[0m             \u001b[0;31m#sys.exit(1)\u001b[0m\u001b[0;34m\u001b[0m\u001b[0;34m\u001b[0m\u001b[0m\n",
        "\u001b[0;31mTypeError\u001b[0m: object of type 'numpy.float64' has no len()"
       ]
      }
     ],
     "prompt_number": 26
    },
    {
     "cell_type": "heading",
     "level": 1,
     "metadata": {},
     "source": [
      "Periodic Features Extracted from Light Curves Using Generalized Lomb\u2013Scargle (Richards et al., 2011)"
     ]
    },
    {
     "cell_type": "markdown",
     "metadata": {},
     "source": [
      "Summary of work:\n",
      "\n",
      "Here, we adopt a model where the time series of the photometric magnitudes of variable stars is modeled as a superposition of sines and cosines:\n",
      "\n",
      "\\begin{equation}\n",
      "y_i(t|f_i) = a_i\\sin(2\\pi f_i t) + b_i\\cos(2\\pi f_i t) + b_{i,\\circ}\n",
      "\\end{equation}\n",
      "\n",
      "where $a$ and $b$ are normalization constants for the sinusoids of frequency $f_i$ and $b_{i,\\circ}$ is the magnitude offset. \n",
      "\n",
      "To find periodic variations in the data, we fit the equation above by minimizing the sum of squares, which we denote $\\chi^2$:\n",
      "\n",
      "\\begin{equation}\n",
      "\\chi^2 = \\sum_k \\frac{(d_k - y_i(t_k))^2}{\\sigma_k^2}\n",
      "\\end{equation}\n",
      "\n",
      "where $\\sigma_k$ is the measurement uncertainty in data point $d_k$. We allow the mean to float, leading to more robust period estimates in the case where the periodic phase is not uniformly sampled; in these cases, the model light curve has a non-zero mean. This can be important when searching for periods on the order of the data span $T_{\\textrm{tot}}$. Now, define\n",
      "\n",
      "\\begin{equation}\n",
      "\\chi^2_{\\circ} = \\sum_k \\frac{(d_k - \\mu)^2}{\\sigma_k^2}\n",
      "\\end{equation}\n",
      "\n",
      "where $\\mu$ is the weighted mean\n",
      "\n",
      "\\begin{equation}\n",
      "\\mu = \\frac{\\sum_k d_k / \\sigma_k^2}{\\sum_k 1/\\sigma_k^2}\n",
      "\\end{equation}\n",
      "\n",
      "Then, the generalized Lomb-Scargle periodogram is:\n",
      "\n",
      "\\begin{equation}\n",
      "P_f(f) = \\frac{(N-1)}{2} \\frac{\\chi_{\\circ}^2 - \\chi_m^2(f)}{\\chi_{\\circ}^2}\n",
      "\\end{equation}\n",
      "\n",
      "where $\\chi_m^2(f)$ is $\\chi^2$ minimized with respect to $a, b$, and $b_{\\circ}$.\n",
      "\n",
      "Following Debosscher et al. (2007), we fit each light curve with a linear term plus a harmonic sum of sinusoids:\n",
      "\n",
      "\\begin{equation}\n",
      "y(t) = ct + \\sum_{i=1}^{3}\\sum_{j=1}^{4} y_i(t|jf_i)\n",
      "\\end{equation}\n",
      "\n",
      "where each of the three test frequencies $f_i$ is allowed to have four harmonics at frequencies $f_{i,j} = jf_i$. The three test frequencies $f_i$ are found iteratively, by successfully finding and removing periodic signal producing a peak in $P_f(f)$, where $P_f(f)$ is the Lomb-Scargle periodogram as defined above.\n",
      "\n",
      "Given a peak in $P_f(f)$, we whiten the data with respect to that frequency by fitting away a model containing that frequency as well as components with frequencies at 2, 3, and 4 times that fundamental frequency (harmonics). Then, we subtract that model from the data, update $\\chi_{\\circ}^2$, and recalculate $P_f(f)$ to find more periodic components.\n",
      "\n",
      "Algorithm:\n",
      "\n",
      "1) For i = {1, 2, 3}:\n",
      "\n",
      "2) Calculate Lomb-Scargle periodogram $P_f(f)$ for light curve.\n",
      "\n",
      "3) Find peak in $P_f(f)$, subtract that model from data.\n",
      "\n",
      "4) Update $\\chi_{\\circ}^2$, return to Step 1.\n",
      "\n",
      "Then, the features extracted are given as an amplitude and a phase:\n",
      "\n",
      "\\begin{align}\n",
      "A_{i,j} &= \\sqrt{a_{i,j}^2 + b_{i,j}^2}\\\\\n",
      "\\textrm{PH}_{i,j} &= \\arctan\\left(\\frac{b_{i,j}}{a_{i,j}}\\right)\n",
      "\\end{align}\n",
      "\n",
      "where $A_{i,j}$ is the amplitude of the $j$th harmonic of the $i$th frequency component and $\\textrm{PH}_{i,j}$ is the phase component, which we then correct to a relative phase with respect to the phase of the first component:\n",
      "\n",
      "\\begin{equation}\n",
      "\\textrm{PH}'_{i,j} = \\textrm{PH}_{i,j} - \\textrm{PH}_{00}\n",
      "\\end{equation}\n",
      "\n",
      "and remapped to $|-\\pi, +\\pi|$."
     ]
    },
    {
     "cell_type": "code",
     "collapsed": false,
     "input": [
      "#We open the light curve in two different bands\n",
      "lc_B = F.ReadLC_MACHO('lc_1.3444.614.B.mjd')  #58.6272.729 1.3444.614 1.4652.1527\n",
      "lc_R = F.ReadLC_MACHO('lc_1.3444.614.R.mjd')\n",
      "\n",
      "#We import the data\n",
      "[data, mjd, error] = lc_B.ReadLC()\n",
      "[data2, mjd2, error2] = lc_R.ReadLC()\n",
      "\n",
      "#We preprocess the data\n",
      "preprocessed_data = F.Preprocess_LC(data, mjd, error)\n",
      "[data, mjd, error] = preprocessed_data.Preprocess()\n",
      "\n",
      "preprocessed_data = F.Preprocess_LC(data2, mjd2, error2)\n",
      "[data2, mjd2, error2] = preprocessed_data.Preprocess()\n",
      "\n",
      "#We synchronize the data\n",
      "if len(data) != len(data2):\n",
      "    [aligned_data, aligned_second_data, aligned_mjd] = F.Align_LC(mjd, mjd2, data, second_data, error, error2)\n",
      "    \n",
      "plt.figure()\n",
      "plt.plot(mjd2,data2)\n",
      "plt.show()"
     ],
     "language": "python",
     "metadata": {},
     "outputs": [
      {
       "metadata": {},
       "output_type": "display_data",
       "png": "[encoded data removed]",
       "text": [
        "<matplotlib.figure.Figure at 0x10a0baad0>"
       ]
      }
     ],
     "prompt_number": 27
    },
    {
     "cell_type": "code",
     "collapsed": false,
     "input": [
      "a = F.FeatureSpace(featureList=['PeriodLS'])\n",
      "a = a.calculateFeature(lc)\n",
      "print \"Period calculated:\", a.result(method='dict')"
     ],
     "language": "python",
     "metadata": {},
     "outputs": [
      {
       "output_type": "stream",
       "stream": "stdout",
       "text": [
        "Incompatible arrays.\n"
       ]
      },
      {
       "ename": "TypeError",
       "evalue": "'NoneType' object is not iterable",
       "output_type": "pyerr",
       "traceback": [
        "\u001b[0;31m---------------------------------------------------------------------------\u001b[0m\n\u001b[0;31mTypeError\u001b[0m                                 Traceback (most recent call last)",
        "\u001b[0;32m<ipython-input-29-1f2c88ebf495>\u001b[0m in \u001b[0;36m<module>\u001b[0;34m()\u001b[0m\n\u001b[1;32m      1\u001b[0m \u001b[0ma\u001b[0m \u001b[0;34m=\u001b[0m \u001b[0mF\u001b[0m\u001b[0;34m.\u001b[0m\u001b[0mFeatureSpace\u001b[0m\u001b[0;34m(\u001b[0m\u001b[0mfeatureList\u001b[0m\u001b[0;34m=\u001b[0m\u001b[0;34m[\u001b[0m\u001b[0;34m'PeriodLS'\u001b[0m\u001b[0;34m]\u001b[0m\u001b[0;34m)\u001b[0m\u001b[0;34m\u001b[0m\u001b[0m\n\u001b[0;32m----> 2\u001b[0;31m \u001b[0ma\u001b[0m \u001b[0;34m=\u001b[0m \u001b[0ma\u001b[0m\u001b[0;34m.\u001b[0m\u001b[0mcalculateFeature\u001b[0m\u001b[0;34m(\u001b[0m\u001b[0mlc\u001b[0m\u001b[0;34m)\u001b[0m\u001b[0;34m\u001b[0m\u001b[0m\n\u001b[0m\u001b[1;32m      3\u001b[0m \u001b[0;32mprint\u001b[0m \u001b[0;34m\"Period calculated:\"\u001b[0m\u001b[0;34m,\u001b[0m \u001b[0ma\u001b[0m\u001b[0;34m.\u001b[0m\u001b[0mresult\u001b[0m\u001b[0;34m(\u001b[0m\u001b[0mmethod\u001b[0m\u001b[0;34m=\u001b[0m\u001b[0;34m'dict'\u001b[0m\u001b[0;34m)\u001b[0m\u001b[0;34m\u001b[0m\u001b[0m\n",
        "\u001b[0;32m/Users/isadoranun/Desktop/Features/FATS/FATS/Feature.pyc\u001b[0m in \u001b[0;36mcalculateFeature\u001b[0;34m(self, data)\u001b[0m\n\u001b[1;32m    105\u001b[0m         \u001b[0mself\u001b[0m\u001b[0;34m.\u001b[0m\u001b[0m__result\u001b[0m \u001b[0;34m=\u001b[0m \u001b[0;34m[\u001b[0m\u001b[0;34m]\u001b[0m\u001b[0;34m\u001b[0m\u001b[0m\n\u001b[1;32m    106\u001b[0m         \u001b[0;32mfor\u001b[0m \u001b[0mf\u001b[0m \u001b[0;32min\u001b[0m \u001b[0mself\u001b[0m\u001b[0;34m.\u001b[0m\u001b[0mfeatureFunc\u001b[0m\u001b[0;34m:\u001b[0m\u001b[0;34m\u001b[0m\u001b[0m\n\u001b[0;32m--> 107\u001b[0;31m             \u001b[0mself\u001b[0m\u001b[0;34m.\u001b[0m\u001b[0m__result\u001b[0m\u001b[0;34m.\u001b[0m\u001b[0mappend\u001b[0m\u001b[0;34m(\u001b[0m\u001b[0mf\u001b[0m\u001b[0;34m(\u001b[0m\u001b[0mself\u001b[0m\u001b[0;34m.\u001b[0m\u001b[0m_X\u001b[0m\u001b[0;34m)\u001b[0m\u001b[0;34m)\u001b[0m\u001b[0;34m\u001b[0m\u001b[0m\n\u001b[0m\u001b[1;32m    108\u001b[0m         \u001b[0;32mreturn\u001b[0m \u001b[0mself\u001b[0m\u001b[0;34m\u001b[0m\u001b[0m\n\u001b[1;32m    109\u001b[0m \u001b[0;34m\u001b[0m\u001b[0m\n",
        "\u001b[0;32m/Users/isadoranun/Desktop/Features/FATS/FATS/FeatureFunctionLib.pyc\u001b[0m in \u001b[0;36mfit\u001b[0;34m(self, data)\u001b[0m\n\u001b[1;32m    776\u001b[0m         \u001b[0;32mglobal\u001b[0m \u001b[0mperiod\u001b[0m\u001b[0;34m\u001b[0m\u001b[0m\n\u001b[1;32m    777\u001b[0m \u001b[0;34m\u001b[0m\u001b[0m\n\u001b[0;32m--> 778\u001b[0;31m         \u001b[0mfx\u001b[0m\u001b[0;34m,\u001b[0m \u001b[0mfy\u001b[0m\u001b[0;34m,\u001b[0m \u001b[0mnout\u001b[0m\u001b[0;34m,\u001b[0m \u001b[0mjmax\u001b[0m\u001b[0;34m,\u001b[0m \u001b[0mprob\u001b[0m \u001b[0;34m=\u001b[0m \u001b[0mlomb\u001b[0m\u001b[0;34m.\u001b[0m\u001b[0mfasper\u001b[0m\u001b[0;34m(\u001b[0m\u001b[0mtime\u001b[0m\u001b[0;34m,\u001b[0m \u001b[0mmagnitude\u001b[0m\u001b[0;34m,\u001b[0m \u001b[0mself\u001b[0m\u001b[0;34m.\u001b[0m\u001b[0mofac\u001b[0m\u001b[0;34m,\u001b[0m \u001b[0;36m100.\u001b[0m\u001b[0;34m)\u001b[0m\u001b[0;34m\u001b[0m\u001b[0m\n\u001b[0m\u001b[1;32m    779\u001b[0m         \u001b[0mperiod\u001b[0m \u001b[0;34m=\u001b[0m \u001b[0mfx\u001b[0m\u001b[0;34m[\u001b[0m\u001b[0mjmax\u001b[0m\u001b[0;34m]\u001b[0m\u001b[0;34m\u001b[0m\u001b[0m\n\u001b[1;32m    780\u001b[0m         \u001b[0mT\u001b[0m \u001b[0;34m=\u001b[0m \u001b[0;36m1.0\u001b[0m \u001b[0;34m/\u001b[0m \u001b[0mperiod\u001b[0m\u001b[0;34m\u001b[0m\u001b[0m\n",
        "\u001b[0;31mTypeError\u001b[0m: 'NoneType' object is not iterable"
       ]
      }
     ],
     "prompt_number": 29
    },
    {
     "cell_type": "code",
     "collapsed": false,
     "input": [
      "# input of lomb\n",
      "#      X   : Abscissas array, (e.g. an array of times). \n",
      "#      Y   : Ordinates array, (e.g. corresponding counts). \n",
      "#      Ofac : Oversampling factor. \n",
      "#      Hifac : Hifac * \"average\" Nyquist frequency = highest frequency \n",
      "#           for which values of the Lomb normalized periodogram will \n",
      "#           be calculated. \n",
      "\n",
      "# output of lomb\n",
      "#      Wk1 : An array of Lomb periodogram frequencies. \n",
      "#      Wk2 : An array of corresponding values of the Lomb periodogram. \n",
      "#      Nout : Wk1 & Wk2 dimensions (number of calculated frequencies) \n",
      "#      Jmax : The array index corresponding to the MAX( Wk2 ). \n",
      "#      Prob : False Alarm Probability of the largest Periodogram value \n",
      "import lomb\n",
      "import scipy.optimize as optimize\n",
      "\n",
      "\n",
      "# 6, 100 are magic numbers taken from Isadora's code\n",
      "wk1, wk2, nout, jmax, prob = lomb.fasper(mjd2, data2, 6., 100.)\n",
      "\n",
      "# show periodogram\n",
      "plt.figure()\n",
      "plt.plot(wk1, wk2)\n",
      "plt.title('Lomb-Scargle Periodogram')\n",
      "plt.show()"
     ],
     "language": "python",
     "metadata": {},
     "outputs": [
      {
       "metadata": {},
       "output_type": "display_data",
       "png": "[encoded data removed]",
       "text": [
        "<matplotlib.figure.Figure at 0x12e60978>"
       ]
      }
     ],
     "prompt_number": 7
    },
    {
     "cell_type": "code",
     "collapsed": false,
     "input": [
      "##### MODEL #####\n",
      "#1) For i = {1, 2, 3}:\n",
      "\n",
      "#2) Calculate Lomb-Scargle periodogram $P_f(f)$ for light curve.\n",
      "\n",
      "#3) Find peak in $P_f(f)$, subtract that model from data.\n",
      "\n",
      "#4) Update $\\chi_{\\circ}^2$, return to Step 1.\n",
      "\n",
      "#Then, the features extracted are given as an amplitude and a phase:\n",
      "#A_{i,j} &= \\sqrt{a_{i,j}^2 + b_{i,j}^2}\\\\\n",
      "#\\textrm{PH}_{i,j} &= \\arctan\\left(\\frac{b_{i,j}}{a_{i,j}}\\right)\n",
      "def calculate_periodic_features(mjd2, data2):\n",
      "    A = []\n",
      "    PH = []\n",
      "    \n",
      "    def model(x, a, b, c, freq):\n",
      "         return a*np.sin(2*np.pi*freq*x)+b*np.cos(2*np.pi*freq*x)+c\n",
      "        \n",
      "    for i in range(3):\n",
      "        wk1, wk2, nout, jmax, prob = lomb.fasper(mjd2, data2, 6., 100.)\n",
      "    \n",
      "        fundamental_freq = wk1[jmax]\n",
      "        \n",
      "        # fit to a_i sin(2pi f_i t) + b_i cos(2 pi f_i t) + b_i,o\n",
      "        \n",
      "        # a, b are the parameters we care about\n",
      "        # c is a constant offset\n",
      "        # f is the fundamental frequency\n",
      "        def yfunc(freq):\n",
      "            def func(x, a, b, c):\n",
      "                return a*np.sin(2*np.pi*freq*x)+b*np.cos(2*np.pi*freq*x)+c\n",
      "            return func\n",
      "        \n",
      "        Atemp = []\n",
      "        PHtemp = []\n",
      "        popts = []\n",
      "        \n",
      "        for j in range(4):\n",
      "            popt, pcov = curve_fit(yfunc((j+1)*fundamental_freq), mjd2, data2)\n",
      "            Atemp.append(np.sqrt(popt[0]**2+popt[1]**2))\n",
      "            PHtemp.append(np.arctan(popt[1] / popt[0]))\n",
      "            popts.append(popt)\n",
      "        \n",
      "        A.append(Atemp)\n",
      "        PH.append(PHtemp)\n",
      "        \n",
      "        for j in range(4):\n",
      "            data2 = np.array(data2) - model(mjd2, popts[j][0], popts[j][1], popts[j][2], (j+1)*fundamental_freq)\n",
      "    \n",
      "    scaledPH = []\n",
      "    for ph in PH:\n",
      "        scaledPH.append(np.array(ph) - ph[0])\n",
      "\n",
      "    return A, PH, scaledPH"
     ],
     "language": "python",
     "metadata": {},
     "outputs": [],
     "prompt_number": 43
    },
    {
     "cell_type": "code",
     "collapsed": false,
     "input": [
      "import lomb\n",
      "from scipy.optimize import curve_fit\n"
     ],
     "language": "python",
     "metadata": {},
     "outputs": [],
     "prompt_number": 44
    },
    {
     "cell_type": "code",
     "collapsed": false,
     "input": [
      "##### READ IN DATA #####\n",
      "#We open the light curve in two different bands\n",
      "lc_B = F.ReadLC_MACHO('lc_1.3444.614.B.mjd')  #58.6272.729 1.3444.614 1.4652.1527\n",
      "lc_R = F.ReadLC_MACHO('lc_1.3444.614.R.mjd')\n",
      "\n",
      "#We import the data\n",
      "[data, mjd, error] = lc_B.ReadLC()\n",
      "[data2, mjd2, error2] = lc_R.ReadLC()\n",
      "\n",
      "#We preprocess the data\n",
      "preprocessed_data = F.Preprocess_LC(data, mjd, error)\n",
      "[data, mjd, error] = preprocessed_data.Preprocess()\n",
      "\n",
      "preprocessed_data = F.Preprocess_LC(data2, mjd2, error2)\n",
      "[data2, mjd2, error2] = preprocessed_data.Preprocess()\n",
      "\n",
      "#We synchronize the data\n",
      "if len(data) != len(data2):\n",
      "    [aligned_data, aligned_second_data, aligned_mjd] = F.Align_LC(mjd, mjd2, data, second_data, error, error2)\n",
      "    \n",
      "plt.figure()\n",
      "plt.plot(mjd2,data2)\n",
      "plt.show()\n",
      "\n",
      "\n",
      "A, PH, scaledPH = calculate_periodic_features(mjd2, data2)\n",
      "print A\n",
      "print PH\n",
      "print scaledPH"
     ],
     "language": "python",
     "metadata": {},
     "outputs": [
      {
       "metadata": {},
       "output_type": "display_data",
       "png": "[encoded data removed]",
       "text": [
        "<matplotlib.figure.Figure at 0x10a1763d0>"
       ]
      },
      {
       "output_type": "stream",
       "stream": "stdout",
       "text": [
        "[[0.12210108512729093, 0.080173584772732717, 0.054324750907612573, 0.018333520954374342], [0.025645239729854958, 0.0067103630853147644, 0.0041472409756517859, 0.0049384738669823354], [0.024409509207262682, 0.0038714295410233819, 0.0044647741046401424, 0.003180690707599593]]\n",
        "[[-0.89694930973903997, -0.33653483489204544, 0.31730088776253335, 1.3577720616878637], [-0.33345835547381364, 0.86810892832218101, 0.7154845473333028, 1.2156810213932128], [0.87819930909101895, -0.89218839319437859, 0.48456657698361144, 0.74239230355946806]]\n",
        "[array([ 0.        ,  0.56041447,  1.2142502 ,  2.25472137]), array([ 0.        ,  1.20156728,  1.0489429 ,  1.54913938]), array([ 0.        , -1.7703877 , -0.39363273, -0.13580701])]\n"
       ]
      }
     ],
     "prompt_number": 45
    },
    {
     "cell_type": "code",
     "collapsed": false,
     "input": [
      "import FATS\n",
      "lc = np.array([data2, mjd2])"
     ],
     "language": "python",
     "metadata": {},
     "outputs": [],
     "prompt_number": 46
    },
    {
     "cell_type": "code",
     "collapsed": false,
     "input": [
      "a = FATS.FeatureSpace(featureList=['PeriodLS','freq1_harmonics_amplitude_0','freq1_harmonics_amplitude_1','freq1_harmonics_amplitude_2','freq1_harmonics_amplitude_3','freq2_harmonics_amplitude_0','freq2_harmonics_amplitude_1','freq2_harmonics_amplitude_2','freq2_harmonics_amplitude_3','freq3_harmonics_amplitude_0','freq3_harmonics_amplitude_1','freq3_harmonics_amplitude_2','freq3_harmonics_amplitude_3'])\n",
      "a=a.calculateFeature(lc)\n",
      "print a.result(method='dict')"
     ],
     "language": "python",
     "metadata": {},
     "outputs": [
      {
       "output_type": "stream",
       "stream": "stdout",
       "text": [
        "{'freq2_harmonics_amplitude_1': 0.0067103588039575416, 'freq1_harmonics_amplitude_2': 0.054324751647988223, 'freq1_harmonics_amplitude_3': 0.018333516488654535, 'freq1_harmonics_amplitude_0': 0.12210108465139032, 'freq1_harmonics_amplitude_1': 0.080173584195038491, 'freq3_harmonics_amplitude_0': 0.024409513445304353, 'freq3_harmonics_amplitude_1': 0.0038714309804917307, 'freq3_harmonics_amplitude_2': 0.0044647413769000948, 'freq3_harmonics_amplitude_3': 0.003180725729752159, 'PeriodLS': 0.93697685233279671, 'freq2_harmonics_amplitude_0': 0.025645234867293205, 'freq2_harmonics_amplitude_3': 0.0049384624307411756, 'freq2_harmonics_amplitude_2': 0.0041472346548679746}\n"
       ]
      }
     ],
     "prompt_number": 47
    },
    {
     "cell_type": "code",
     "collapsed": false,
     "input": [
      "a = FATS.FeatureSpace(featureList=['PeriodLS','freq1_harmonics_amplitude_0','freq1_harmonics_rel_phase_0','freq1_harmonics_rel_phase_1','freq1_harmonics_rel_phase_2','freq1_harmonics_rel_phase_3','freq2_harmonics_rel_phase_0','freq2_harmonics_rel_phase_1','freq2_harmonics_rel_phase_2','freq2_harmonics_rel_phase_3','freq3_harmonics_rel_phase_0','freq3_harmonics_rel_phase_1','freq3_harmonics_rel_phase_2','freq3_harmonics_rel_phase_3'])\n",
      "a=a.calculateFeature(lc)\n",
      "print a.result(method='dict')"
     ],
     "language": "python",
     "metadata": {},
     "outputs": [
      {
       "output_type": "stream",
       "stream": "stdout",
       "text": [
        "{'freq2_harmonics_rel_phase_3': 1.7746749581562886, 'freq2_harmonics_rel_phase_2': 2.2464954885085153, 'freq2_harmonics_rel_phase_1': 0.2295494948482153, 'freq2_harmonics_rel_phase_0': 0.0, 'freq3_harmonics_rel_phase_0': 0.0, 'freq1_harmonics_rel_phase_0': 0.0, 'freq1_harmonics_rel_phase_1': 0.33027835767795799, 'freq1_harmonics_rel_phase_2': 0.7539779449828754, 'freq1_harmonics_rel_phase_3': 1.5643129414559014, 'freq3_harmonics_rel_phase_2': 1.1059900686997992, 'freq3_harmonics_rel_phase_3': 2.1136212591524184, 'freq1_harmonics_amplitude_0': 0.12210108465139032, 'freq3_harmonics_rel_phase_1': 2.1210198381339147, 'PeriodLS': 0.93697685233279671}\n"
       ]
      }
     ],
     "prompt_number": 50
    },
    {
     "cell_type": "code",
     "collapsed": false,
     "input": [],
     "language": "python",
     "metadata": {},
     "outputs": []
    }
   ],
   "metadata": {}
  }
 ]
}