{
 "metadata": {
  "name": "",
  "signature": "sha256:246ea530dfb22efc00dbd8e88e4576d34ee34957cb1dcf5bd5bdc495ca71b027"
 },
 "nbformat": 3,
 "nbformat_minor": 0,
 "worksheets": [
  {
   "cells": [
    {
     "cell_type": "code",
     "collapsed": false,
     "input": [
      "import numpy as np\n",
      "import scipy as sp\n",
      "import pandas as pd\n",
      "import matplotlib.pyplot as plt\n",
      "#import seaborn\n",
      "from sklearn.tree import DecisionTreeClassifier\n",
      "from sklearn.ensemble import RandomForestClassifier, GradientBoostingClassifier \n",
      "from sklearn import svm\n",
      "from sklearn.metrics import confusion_matrix, accuracy_score, mean_squared_error\n",
      "from sklearn.cross_validation import cross_val_score, KFold, train_test_split\n",
      "from sklearn.decomposition import PCA\n",
      "from sklearn.preprocessing import StandardScaler\n",
      "import os.path\n",
      "\n",
      "%matplotlib inline "
     ],
     "language": "python",
     "metadata": {},
     "outputs": [],
     "prompt_number": 1
    },
    {
     "cell_type": "markdown",
     "metadata": {},
     "source": [
      "### Describe data ###\n",
      "\n",
      "None Variable: 2\n",
      "Quasar: 3\n",
      "Be Stars: 4\n",
      "Cepheid: 5\n",
      "RR Lyrae: 6\n",
      "Eclipsing Binaries: 7\n",
      "MicroLensing: 8\n",
      "Long Periodic Variable: 9\n"
     ]
    },
    {
     "cell_type": "code",
     "collapsed": false,
     "input": [
      "path = path = os.getcwd()\n",
      "path = path + '/MACHO_ts/'\n",
      "\n",
      "for idx,j in enumerate(os.listdir(path)):\n",
      "# for index i,j in os.listdir(path):\n",
      "    if j.endswith('.csv'):\n",
      "        if idx == 0:\n",
      "            data = pd.read_csv(path+j,index_col=0)\n",
      "            data['Class'] = idx + np.ones(len(data))\n",
      "\n",
      "        else:        \n",
      "            data2 = pd.read_csv(path+j,index_col=0)\n",
      "            data2['Class'] = idx + np.ones(len(data2))\n",
      "            data = pd.concat([data, data2])\n",
      "\n",
      "data = data.drop('Automean', 1)\n",
      "data.to_csv('MACHO_ts.csv') \n",
      "            "
     ],
     "language": "python",
     "metadata": {},
     "outputs": [],
     "prompt_number": 2
    },
    {
     "cell_type": "code",
     "collapsed": false,
     "input": [
      "# data = pd.read_csv('New_training_psi.csv',index_col=0)\n",
      "data = data.replace([np.inf, -np.inf], np.nan)\n",
      "data = data.dropna()\n",
      "data.to_csv('MACHO_ts.csv') \n",
      "data.head()"
     ],
     "language": "python",
     "metadata": {},
     "outputs": [
      {
       "html": [
        "<div style=\"max-height:1000px;max-width:1500px;overflow:auto;\">\n",
        "<table border=\"1\" class=\"dataframe\">\n",
        "  <thead>\n",
        "    <tr style=\"text-align: right;\">\n",
        "      <th></th>\n",
        "      <th>Amplitude</th>\n",
        "      <th>AndersonDarling</th>\n",
        "      <th>Autocor_length</th>\n",
        "      <th>Beyond1Std</th>\n",
        "      <th>CAR_sigma</th>\n",
        "      <th>CAR_tau</th>\n",
        "      <th>CAR_tmean</th>\n",
        "      <th>Color</th>\n",
        "      <th>Con</th>\n",
        "      <th>Eta_color</th>\n",
        "      <th>...</th>\n",
        "      <th>Rcs</th>\n",
        "      <th>Skew</th>\n",
        "      <th>SlottedA_length</th>\n",
        "      <th>SmallKurtosis</th>\n",
        "      <th>Std</th>\n",
        "      <th>StetsonJ</th>\n",
        "      <th>StetsonK</th>\n",
        "      <th>StetsonK_AC</th>\n",
        "      <th>StetsonL</th>\n",
        "      <th>Class</th>\n",
        "    </tr>\n",
        "  </thead>\n",
        "  <tbody>\n",
        "    <tr>\n",
        "      <th>80.6708.5218</th>\n",
        "      <td> 0.12700</td>\n",
        "      <td> 1</td>\n",
        "      <td>  44</td>\n",
        "      <td> 0.278136</td>\n",
        "      <td>-0.013622</td>\n",
        "      <td>  37.158804</td>\n",
        "      <td>-0.195121</td>\n",
        "      <td>-0.356996</td>\n",
        "      <td> 0.004307</td>\n",
        "      <td> 4478.196740</td>\n",
        "      <td>...</td>\n",
        "      <td> 0.275917</td>\n",
        "      <td> 0.512233</td>\n",
        "      <td>   0.026157</td>\n",
        "      <td> 1.389718</td>\n",
        "      <td> 0.063573</td>\n",
        "      <td> 0.439091</td>\n",
        "      <td> 0.763764</td>\n",
        "      <td> 0.816338</td>\n",
        "      <td> 0.274887</td>\n",
        "      <td> 1</td>\n",
        "    </tr>\n",
        "    <tr>\n",
        "      <th>48.2742.1409</th>\n",
        "      <td> 0.16525</td>\n",
        "      <td> 1</td>\n",
        "      <td>   1</td>\n",
        "      <td> 0.185185</td>\n",
        "      <td>-0.053792</td>\n",
        "      <td>   3.563116</td>\n",
        "      <td>-1.814895</td>\n",
        "      <td>-0.520699</td>\n",
        "      <td> 0.000000</td>\n",
        "      <td>   16.673054</td>\n",
        "      <td>...</td>\n",
        "      <td> 0.207167</td>\n",
        "      <td>-1.929378</td>\n",
        "      <td>   1.024734</td>\n",
        "      <td> 7.272569</td>\n",
        "      <td> 0.076998</td>\n",
        "      <td> 0.006110</td>\n",
        "      <td> 0.673988</td>\n",
        "      <td> 0.721044</td>\n",
        "      <td> 0.003726</td>\n",
        "      <td> 1</td>\n",
        "    </tr>\n",
        "    <tr>\n",
        "      <th>53.3970.353</th>\n",
        "      <td> 0.14600</td>\n",
        "      <td> 1</td>\n",
        "      <td>  19</td>\n",
        "      <td> 0.291367</td>\n",
        "      <td>-0.003886</td>\n",
        "      <td> 490.231454</td>\n",
        "      <td>-0.010910</td>\n",
        "      <td>-0.435427</td>\n",
        "      <td> 0.000000</td>\n",
        "      <td> 2628.279811</td>\n",
        "      <td>...</td>\n",
        "      <td> 0.300025</td>\n",
        "      <td> 0.387355</td>\n",
        "      <td>  15.233322</td>\n",
        "      <td> 0.318671</td>\n",
        "      <td> 0.072600</td>\n",
        "      <td> 0.399034</td>\n",
        "      <td> 0.769279</td>\n",
        "      <td> 0.765331</td>\n",
        "      <td> 0.280160</td>\n",
        "      <td> 1</td>\n",
        "    </tr>\n",
        "    <tr>\n",
        "      <th>14.8863.660</th>\n",
        "      <td> 0.13200</td>\n",
        "      <td> 1</td>\n",
        "      <td> 146</td>\n",
        "      <td> 0.316737</td>\n",
        "      <td>-0.020506</td>\n",
        "      <td>  23.280406</td>\n",
        "      <td>-0.291598</td>\n",
        "      <td>-0.260269</td>\n",
        "      <td> 0.001062</td>\n",
        "      <td> 2390.816592</td>\n",
        "      <td>...</td>\n",
        "      <td> 0.372110</td>\n",
        "      <td>-0.547138</td>\n",
        "      <td> 306.215875</td>\n",
        "      <td>-0.031463</td>\n",
        "      <td> 0.072473</td>\n",
        "      <td> 0.721305</td>\n",
        "      <td> 0.814942</td>\n",
        "      <td> 0.743765</td>\n",
        "      <td> 0.606026</td>\n",
        "      <td> 1</td>\n",
        "    </tr>\n",
        "    <tr>\n",
        "      <th>11.8751.968</th>\n",
        "      <td> 0.48125</td>\n",
        "      <td> 1</td>\n",
        "      <td>  41</td>\n",
        "      <td> 0.251832</td>\n",
        "      <td>-0.016820</td>\n",
        "      <td> 216.659786</td>\n",
        "      <td>-0.022690</td>\n",
        "      <td> 0.386472</td>\n",
        "      <td> 0.003670</td>\n",
        "      <td>  577.076785</td>\n",
        "      <td>...</td>\n",
        "      <td> 0.283297</td>\n",
        "      <td> 0.464646</td>\n",
        "      <td>   0.319352</td>\n",
        "      <td> 1.554634</td>\n",
        "      <td> 0.245696</td>\n",
        "      <td> 0.599099</td>\n",
        "      <td> 0.778154</td>\n",
        "      <td> 0.718825</td>\n",
        "      <td> 0.443962</td>\n",
        "      <td> 1</td>\n",
        "    </tr>\n",
        "  </tbody>\n",
        "</table>\n",
        "<p>5 rows \u00d7 65 columns</p>\n",
        "</div>"
       ],
       "metadata": {},
       "output_type": "pyout",
       "prompt_number": 7,
       "text": [
        "              Amplitude  AndersonDarling  Autocor_length  Beyond1Std  \\\n",
        "80.6708.5218    0.12700                1              44    0.278136   \n",
        "48.2742.1409    0.16525                1               1    0.185185   \n",
        "53.3970.353     0.14600                1              19    0.291367   \n",
        "14.8863.660     0.13200                1             146    0.316737   \n",
        "11.8751.968     0.48125                1              41    0.251832   \n",
        "\n",
        "              CAR_sigma     CAR_tau  CAR_tmean     Color       Con  \\\n",
        "80.6708.5218  -0.013622   37.158804  -0.195121 -0.356996  0.004307   \n",
        "48.2742.1409  -0.053792    3.563116  -1.814895 -0.520699  0.000000   \n",
        "53.3970.353   -0.003886  490.231454  -0.010910 -0.435427  0.000000   \n",
        "14.8863.660   -0.020506   23.280406  -0.291598 -0.260269  0.001062   \n",
        "11.8751.968   -0.016820  216.659786  -0.022690  0.386472  0.003670   \n",
        "\n",
        "                Eta_color     ...            Rcs      Skew  SlottedA_length  \\\n",
        "80.6708.5218  4478.196740     ...       0.275917  0.512233         0.026157   \n",
        "48.2742.1409    16.673054     ...       0.207167 -1.929378         1.024734   \n",
        "53.3970.353   2628.279811     ...       0.300025  0.387355        15.233322   \n",
        "14.8863.660   2390.816592     ...       0.372110 -0.547138       306.215875   \n",
        "11.8751.968    577.076785     ...       0.283297  0.464646         0.319352   \n",
        "\n",
        "              SmallKurtosis       Std  StetsonJ  StetsonK  StetsonK_AC  \\\n",
        "80.6708.5218       1.389718  0.063573  0.439091  0.763764     0.816338   \n",
        "48.2742.1409       7.272569  0.076998  0.006110  0.673988     0.721044   \n",
        "53.3970.353        0.318671  0.072600  0.399034  0.769279     0.765331   \n",
        "14.8863.660       -0.031463  0.072473  0.721305  0.814942     0.743765   \n",
        "11.8751.968        1.554634  0.245696  0.599099  0.778154     0.718825   \n",
        "\n",
        "              StetsonL  Class  \n",
        "80.6708.5218  0.274887      1  \n",
        "48.2742.1409  0.003726      1  \n",
        "53.3970.353   0.280160      1  \n",
        "14.8863.660   0.606026      1  \n",
        "11.8751.968   0.443962      1  \n",
        "\n",
        "[5 rows x 65 columns]"
       ]
      }
     ],
     "prompt_number": 7
    },
    {
     "cell_type": "code",
     "collapsed": false,
     "input": [
      "features = data.columns[:-1]\n",
      "data[features].describe()"
     ],
     "language": "python",
     "metadata": {},
     "outputs": [
      {
       "html": [
        "<div style=\"max-height:1000px;max-width:1500px;overflow:auto;\">\n",
        "<table border=\"1\" class=\"dataframe\">\n",
        "  <thead>\n",
        "    <tr style=\"text-align: right;\">\n",
        "      <th></th>\n",
        "      <th>Amplitude</th>\n",
        "      <th>AndersonDarling</th>\n",
        "      <th>Autocor_length</th>\n",
        "      <th>Beyond1Std</th>\n",
        "      <th>CAR_sigma</th>\n",
        "      <th>CAR_tau</th>\n",
        "      <th>CAR_tmean</th>\n",
        "      <th>Color</th>\n",
        "      <th>Con</th>\n",
        "      <th>Eta_color</th>\n",
        "      <th>...</th>\n",
        "      <th>Q31_color</th>\n",
        "      <th>Rcs</th>\n",
        "      <th>Skew</th>\n",
        "      <th>SlottedA_length</th>\n",
        "      <th>SmallKurtosis</th>\n",
        "      <th>Std</th>\n",
        "      <th>StetsonJ</th>\n",
        "      <th>StetsonK</th>\n",
        "      <th>StetsonK_AC</th>\n",
        "      <th>StetsonL</th>\n",
        "    </tr>\n",
        "  </thead>\n",
        "  <tbody>\n",
        "    <tr>\n",
        "      <th>count</th>\n",
        "      <td> 6063.000000</td>\n",
        "      <td> 6063.000000</td>\n",
        "      <td> 6063.000000</td>\n",
        "      <td> 6063.000000</td>\n",
        "      <td> 6063.000000</td>\n",
        "      <td> 6.063000e+03</td>\n",
        "      <td> 6.063000e+03</td>\n",
        "      <td> 6063.000000</td>\n",
        "      <td> 6063.000000</td>\n",
        "      <td>    6063.000000</td>\n",
        "      <td>...</td>\n",
        "      <td> 6063.000000</td>\n",
        "      <td> 6063.000000</td>\n",
        "      <td> 6063.000000</td>\n",
        "      <td> 6063.000000</td>\n",
        "      <td> 6063.000000</td>\n",
        "      <td> 6063.000000</td>\n",
        "      <td> 6063.000000</td>\n",
        "      <td> 6063.000000</td>\n",
        "      <td> 6063.000000</td>\n",
        "      <td> 6063.000000</td>\n",
        "    </tr>\n",
        "    <tr>\n",
        "      <th>mean</th>\n",
        "      <td>    0.523354</td>\n",
        "      <td>    0.998227</td>\n",
        "      <td>    4.366320</td>\n",
        "      <td>    0.240932</td>\n",
        "      <td>   -0.078952</td>\n",
        "      <td> 6.221701e+05</td>\n",
        "      <td>-2.275857e+02</td>\n",
        "      <td>    0.204879</td>\n",
        "      <td>    0.002929</td>\n",
        "      <td>    7494.105158</td>\n",
        "      <td>...</td>\n",
        "      <td>    0.258005</td>\n",
        "      <td>    0.070918</td>\n",
        "      <td>   -0.364092</td>\n",
        "      <td>    3.885572</td>\n",
        "      <td>    4.659390</td>\n",
        "      <td>    0.253619</td>\n",
        "      <td>    0.258613</td>\n",
        "      <td>    0.709223</td>\n",
        "      <td>    0.676494</td>\n",
        "      <td>    0.165221</td>\n",
        "    </tr>\n",
        "    <tr>\n",
        "      <th>std</th>\n",
        "      <td>    0.335874</td>\n",
        "      <td>    0.025019</td>\n",
        "      <td>   17.387283</td>\n",
        "      <td>    0.069362</td>\n",
        "      <td>    1.392112</td>\n",
        "      <td> 2.277031e+07</td>\n",
        "      <td> 8.347666e+02</td>\n",
        "      <td>    0.528046</td>\n",
        "      <td>    0.008102</td>\n",
        "      <td>   42197.710030</td>\n",
        "      <td>...</td>\n",
        "      <td>    0.184689</td>\n",
        "      <td>    0.062818</td>\n",
        "      <td>    0.794886</td>\n",
        "      <td>   28.955520</td>\n",
        "      <td>    4.733775</td>\n",
        "      <td>    0.161772</td>\n",
        "      <td>    0.246856</td>\n",
        "      <td>    0.067021</td>\n",
        "      <td>    0.094042</td>\n",
        "      <td>    0.201636</td>\n",
        "    </tr>\n",
        "    <tr>\n",
        "      <th>min</th>\n",
        "      <td>    0.020500</td>\n",
        "      <td>    0.341722</td>\n",
        "      <td>    1.000000</td>\n",
        "      <td>    0.044944</td>\n",
        "      <td>  -12.148201</td>\n",
        "      <td> 4.728889e-04</td>\n",
        "      <td>-1.091337e+04</td>\n",
        "      <td>   -1.022921</td>\n",
        "      <td>    0.000000</td>\n",
        "      <td>       1.000000</td>\n",
        "      <td>...</td>\n",
        "      <td>    0.009000</td>\n",
        "      <td>    0.019402</td>\n",
        "      <td>   -6.136411</td>\n",
        "      <td>    0.011111</td>\n",
        "      <td>   -1.515619</td>\n",
        "      <td>    0.011412</td>\n",
        "      <td>   -0.177488</td>\n",
        "      <td>    0.395244</td>\n",
        "      <td>    0.250155</td>\n",
        "      <td>   -0.114115</td>\n",
        "    </tr>\n",
        "    <tr>\n",
        "      <th>25%</th>\n",
        "      <td>    0.261125</td>\n",
        "      <td>    1.000000</td>\n",
        "      <td>    1.000000</td>\n",
        "      <td>    0.197250</td>\n",
        "      <td>   -0.217596</td>\n",
        "      <td> 4.820693e-02</td>\n",
        "      <td>-1.023507e+02</td>\n",
        "      <td>   -0.164665</td>\n",
        "      <td>    0.000000</td>\n",
        "      <td>    1391.829363</td>\n",
        "      <td>...</td>\n",
        "      <td>    0.114000</td>\n",
        "      <td>    0.038937</td>\n",
        "      <td>   -0.739871</td>\n",
        "      <td>    0.109699</td>\n",
        "      <td>    2.082438</td>\n",
        "      <td>    0.129247</td>\n",
        "      <td>    0.076718</td>\n",
        "      <td>    0.664716</td>\n",
        "      <td>    0.620217</td>\n",
        "      <td>    0.035334</td>\n",
        "    </tr>\n",
        "    <tr>\n",
        "      <th>50%</th>\n",
        "      <td>    0.465500</td>\n",
        "      <td>    1.000000</td>\n",
        "      <td>    1.000000</td>\n",
        "      <td>    0.222101</td>\n",
        "      <td>   -0.028737</td>\n",
        "      <td> 1.160218e+00</td>\n",
        "      <td>-3.728635e+00</td>\n",
        "      <td>    0.091812</td>\n",
        "      <td>    0.000000</td>\n",
        "      <td>    3713.568491</td>\n",
        "      <td>...</td>\n",
        "      <td>    0.210000</td>\n",
        "      <td>    0.049840</td>\n",
        "      <td>   -0.419509</td>\n",
        "      <td>    0.123739</td>\n",
        "      <td>    4.212347</td>\n",
        "      <td>    0.228767</td>\n",
        "      <td>    0.144524</td>\n",
        "      <td>    0.694725</td>\n",
        "      <td>    0.663081</td>\n",
        "      <td>    0.067666</td>\n",
        "    </tr>\n",
        "    <tr>\n",
        "      <th>75%</th>\n",
        "      <td>    0.721750</td>\n",
        "      <td>    1.000000</td>\n",
        "      <td>    1.000000</td>\n",
        "      <td>    0.263378</td>\n",
        "      <td>    0.018142</td>\n",
        "      <td> 1.832332e+01</td>\n",
        "      <td>-2.662364e-01</td>\n",
        "      <td>    0.406176</td>\n",
        "      <td>    0.001701</td>\n",
        "      <td>    7592.668454</td>\n",
        "      <td>...</td>\n",
        "      <td>    0.369000</td>\n",
        "      <td>    0.070661</td>\n",
        "      <td>   -0.008725</td>\n",
        "      <td>    0.203970</td>\n",
        "      <td>    6.440439</td>\n",
        "      <td>    0.346826</td>\n",
        "      <td>    0.416958</td>\n",
        "      <td>    0.742183</td>\n",
        "      <td>    0.726495</td>\n",
        "      <td>    0.214128</td>\n",
        "    </tr>\n",
        "    <tr>\n",
        "      <th>max</th>\n",
        "      <td>    3.221250</td>\n",
        "      <td>    1.000000</td>\n",
        "      <td>  323.000000</td>\n",
        "      <td>    0.788321</td>\n",
        "      <td>   25.646470</td>\n",
        "      <td> 1.379351e+09</td>\n",
        "      <td>-3.597353e-09</td>\n",
        "      <td>    3.263769</td>\n",
        "      <td>    0.143713</td>\n",
        "      <td> 1807743.974233</td>\n",
        "      <td>...</td>\n",
        "      <td>    1.469000</td>\n",
        "      <td>    0.462523</td>\n",
        "      <td>   10.406876</td>\n",
        "      <td>  527.874240</td>\n",
        "      <td>  172.925347</td>\n",
        "      <td>    1.718985</td>\n",
        "      <td>    1.414214</td>\n",
        "      <td>    0.928697</td>\n",
        "      <td>    0.952755</td>\n",
        "      <td>    1.772197</td>\n",
        "    </tr>\n",
        "  </tbody>\n",
        "</table>\n",
        "<p>8 rows \u00d7 64 columns</p>\n",
        "</div>"
       ],
       "metadata": {},
       "output_type": "pyout",
       "prompt_number": 8,
       "text": [
        "         Amplitude  AndersonDarling  Autocor_length   Beyond1Std    CAR_sigma  \\\n",
        "count  6063.000000      6063.000000     6063.000000  6063.000000  6063.000000   \n",
        "mean      0.523354         0.998227        4.366320     0.240932    -0.078952   \n",
        "std       0.335874         0.025019       17.387283     0.069362     1.392112   \n",
        "min       0.020500         0.341722        1.000000     0.044944   -12.148201   \n",
        "25%       0.261125         1.000000        1.000000     0.197250    -0.217596   \n",
        "50%       0.465500         1.000000        1.000000     0.222101    -0.028737   \n",
        "75%       0.721750         1.000000        1.000000     0.263378     0.018142   \n",
        "max       3.221250         1.000000      323.000000     0.788321    25.646470   \n",
        "\n",
        "            CAR_tau     CAR_tmean        Color          Con       Eta_color  \\\n",
        "count  6.063000e+03  6.063000e+03  6063.000000  6063.000000     6063.000000   \n",
        "mean   6.221701e+05 -2.275857e+02     0.204879     0.002929     7494.105158   \n",
        "std    2.277031e+07  8.347666e+02     0.528046     0.008102    42197.710030   \n",
        "min    4.728889e-04 -1.091337e+04    -1.022921     0.000000        1.000000   \n",
        "25%    4.820693e-02 -1.023507e+02    -0.164665     0.000000     1391.829363   \n",
        "50%    1.160218e+00 -3.728635e+00     0.091812     0.000000     3713.568491   \n",
        "75%    1.832332e+01 -2.662364e-01     0.406176     0.001701     7592.668454   \n",
        "max    1.379351e+09 -3.597353e-09     3.263769     0.143713  1807743.974233   \n",
        "\n",
        "            ...          Q31_color          Rcs         Skew  SlottedA_length  \\\n",
        "count       ...        6063.000000  6063.000000  6063.000000      6063.000000   \n",
        "mean        ...           0.258005     0.070918    -0.364092         3.885572   \n",
        "std         ...           0.184689     0.062818     0.794886        28.955520   \n",
        "min         ...           0.009000     0.019402    -6.136411         0.011111   \n",
        "25%         ...           0.114000     0.038937    -0.739871         0.109699   \n",
        "50%         ...           0.210000     0.049840    -0.419509         0.123739   \n",
        "75%         ...           0.369000     0.070661    -0.008725         0.203970   \n",
        "max         ...           1.469000     0.462523    10.406876       527.874240   \n",
        "\n",
        "       SmallKurtosis          Std     StetsonJ     StetsonK  StetsonK_AC  \\\n",
        "count    6063.000000  6063.000000  6063.000000  6063.000000  6063.000000   \n",
        "mean        4.659390     0.253619     0.258613     0.709223     0.676494   \n",
        "std         4.733775     0.161772     0.246856     0.067021     0.094042   \n",
        "min        -1.515619     0.011412    -0.177488     0.395244     0.250155   \n",
        "25%         2.082438     0.129247     0.076718     0.664716     0.620217   \n",
        "50%         4.212347     0.228767     0.144524     0.694725     0.663081   \n",
        "75%         6.440439     0.346826     0.416958     0.742183     0.726495   \n",
        "max       172.925347     1.718985     1.414214     0.928697     0.952755   \n",
        "\n",
        "          StetsonL  \n",
        "count  6063.000000  \n",
        "mean      0.165221  \n",
        "std       0.201636  \n",
        "min      -0.114115  \n",
        "25%       0.035334  \n",
        "50%       0.067666  \n",
        "75%       0.214128  \n",
        "max       1.772197  \n",
        "\n",
        "[8 rows x 64 columns]"
       ]
      }
     ],
     "prompt_number": 8
    },
    {
     "cell_type": "code",
     "collapsed": false,
     "input": [
      "print 'Data size:',len(data)"
     ],
     "language": "python",
     "metadata": {},
     "outputs": [
      {
       "output_type": "stream",
       "stream": "stdout",
       "text": [
        "Data size: 6063\n"
       ]
      }
     ],
     "prompt_number": 9
    },
    {
     "cell_type": "code",
     "collapsed": false,
     "input": [
      "print \"number of features: %i \" %(len(data.columns[:-1]))\n",
      "\n",
      "counts = pd.DataFrame(data.dropna().groupby(by='Class').CAR_sigma.count())\n",
      "counts.columns = ['count']\n",
      "counts"
     ],
     "language": "python",
     "metadata": {},
     "outputs": [
      {
       "output_type": "stream",
       "stream": "stdout",
       "text": [
        "number of features: 64 \n"
       ]
      },
      {
       "html": [
        "<div style=\"max-height:1000px;max-width:1500px;overflow:auto;\">\n",
        "<table border=\"1\" class=\"dataframe\">\n",
        "  <thead>\n",
        "    <tr style=\"text-align: right;\">\n",
        "      <th></th>\n",
        "      <th>count</th>\n",
        "    </tr>\n",
        "    <tr>\n",
        "      <th>Class</th>\n",
        "      <th></th>\n",
        "    </tr>\n",
        "  </thead>\n",
        "  <tbody>\n",
        "    <tr>\n",
        "      <th>1</th>\n",
        "      <td>  127</td>\n",
        "    </tr>\n",
        "    <tr>\n",
        "      <th>2</th>\n",
        "      <td>  101</td>\n",
        "    </tr>\n",
        "    <tr>\n",
        "      <th>3</th>\n",
        "      <td>  255</td>\n",
        "    </tr>\n",
        "    <tr>\n",
        "      <th>4</th>\n",
        "      <td>  365</td>\n",
        "    </tr>\n",
        "    <tr>\n",
        "      <th>5</th>\n",
        "      <td>  580</td>\n",
        "    </tr>\n",
        "    <tr>\n",
        "      <th>6</th>\n",
        "      <td> 3966</td>\n",
        "    </tr>\n",
        "    <tr>\n",
        "      <th>7</th>\n",
        "      <td>   59</td>\n",
        "    </tr>\n",
        "    <tr>\n",
        "      <th>8</th>\n",
        "      <td>  610</td>\n",
        "    </tr>\n",
        "  </tbody>\n",
        "</table>\n",
        "</div>"
       ],
       "metadata": {},
       "output_type": "pyout",
       "prompt_number": 6,
       "text": [
        "       count\n",
        "Class       \n",
        "1        127\n",
        "2        101\n",
        "3        255\n",
        "4        365\n",
        "5        580\n",
        "6       3966\n",
        "7         59\n",
        "8        610"
       ]
      }
     ],
     "prompt_number": 6
    },
    {
     "cell_type": "code",
     "collapsed": false,
     "input": [
      "y = data['Class']\n",
      "plt.scatter(data.iloc[:,4], data.iloc[:,10], c=y, s=50)"
     ],
     "language": "python",
     "metadata": {},
     "outputs": [
      {
       "metadata": {},
       "output_type": "pyout",
       "prompt_number": 98,
       "text": [
        "<matplotlib.collections.PathCollection at 0x10ce96450>"
       ]
      },
      {
       "metadata": {},
       "output_type": "display_data",
       "png": "[encoded data removed]",
       "text": [
        "<matplotlib.figure.Figure at 0x10ce2df10>"
       ]
      }
     ],
     "prompt_number": 98
    },
    {
     "cell_type": "markdown",
     "metadata": {},
     "source": [
      "### Random forest classification ###"
     ]
    },
    {
     "cell_type": "code",
     "collapsed": false,
     "input": [
      "Xr, Xt, yr, yt = train_test_split(data[features], data['Class'], train_size=5000, test_size=1063, random_state=42)\n"
     ],
     "language": "python",
     "metadata": {},
     "outputs": [],
     "prompt_number": 99
    },
    {
     "cell_type": "code",
     "collapsed": false,
     "input": [
      "clf = RandomForestClassifier(n_estimators=300)\n",
      "clf.fit(Xr, yr)\n",
      "\n",
      "ypred = clf.predict(Xt)\n",
      "print 'confusion matrix: \\n' \n",
      "print (confusion_matrix(yt, ypred))\n",
      "print '\\n ========================================= \\n '\n",
      "print 'score of accuracy %f' % (clf.score(Xt, yt))\n"
     ],
     "language": "python",
     "metadata": {},
     "outputs": [
      {
       "output_type": "stream",
       "stream": "stdout",
       "text": [
        "confusion matrix: \n",
        "\n",
        "[[ 20   0   0   1   1   1   3   1]\n",
        " [  0  17   1   0   0   0   0   0]\n",
        " [  0   0  49   1   1   2   0   6]\n",
        " [  0   0   0  60   2   0   0   0]\n",
        " [  0   0   0   0 100   2   1   0]\n",
        " [  0   1   1   1   0 685   0   1]\n",
        " [  2   0   0   0   0   0   8   0]\n",
        " [  0   0   0   0   0   0   0  95]]\n",
        "\n",
        " ========================================= \n",
        " \n",
        "score of accuracy 0.972719"
       ]
      },
      {
       "output_type": "stream",
       "stream": "stdout",
       "text": [
        "\n"
       ]
      }
     ],
     "prompt_number": 100
    },
    {
     "cell_type": "code",
     "collapsed": false,
     "input": [
      "scores = cross_val_score(clf, Xt, yt, cv=2)\n",
      "print(\"Accuracy: %0.2f (+/- %0.2f)\"\n",
      "      % (scores.mean(), scores.std()*2))"
     ],
     "language": "python",
     "metadata": {},
     "outputs": [
      {
       "output_type": "stream",
       "stream": "stdout",
       "text": [
        "Accuracy: 0.96 (+/- 0.00)\n"
       ]
      }
     ],
     "prompt_number": 101
    },
    {
     "cell_type": "code",
     "collapsed": false,
     "input": [
      "def plot_estimator(estimator, X, y):\n",
      "    estimator.fit(X, y)\n",
      "    x_min, x_max = X[:, 0].min() - .1, X[:, 0].max() + .1\n",
      "    y_min, y_max = X[:, 1].min() - .1, X[:, 1].max() + .1\n",
      "    xx, yy = np.meshgrid(np.linspace(x_min, x_max, 50),\n",
      "                         np.linspace(y_min, y_max, 50))\n",
      "    Z = estimator.predict(np.c_[xx.ravel(), yy.ravel()])\n",
      "\n",
      "    # Put the result into a color plot\n",
      "    Z = Z.reshape(xx.shape)\n",
      "    plt.figure(figsize=[8,10])\n",
      "    plt.pcolormesh(xx, yy, Z, alpha=0.15,cmap = 'hsv')\n",
      "\n",
      "    # Plot also the training points\n",
      "    plt.scatter(X[:, 0], X[:, 1], c = y, s=50)\n",
      "    plt.axis('tight')\n",
      "    plt.axis('off')\n",
      "    plt.tight_layout()"
     ],
     "language": "python",
     "metadata": {},
     "outputs": [],
     "prompt_number": 90
    },
    {
     "cell_type": "code",
     "collapsed": false,
     "input": [
      "plot_estimator(clf, data[features], data['Class'].values)"
     ],
     "language": "python",
     "metadata": {},
     "outputs": [
      {
       "ename": "TypeError",
       "evalue": "unhashable type",
       "output_type": "pyerr",
       "traceback": [
        "\u001b[0;31m---------------------------------------------------------------------------\u001b[0m\n\u001b[0;31mTypeError\u001b[0m                                 Traceback (most recent call last)",
        "\u001b[0;32m<ipython-input-91-21150e44bc76>\u001b[0m in \u001b[0;36m<module>\u001b[0;34m()\u001b[0m\n\u001b[0;32m----> 1\u001b[0;31m \u001b[0mplot_estimator\u001b[0m\u001b[0;34m(\u001b[0m\u001b[0mclf\u001b[0m\u001b[0;34m,\u001b[0m \u001b[0mdata\u001b[0m\u001b[0;34m[\u001b[0m\u001b[0mfeatures\u001b[0m\u001b[0;34m]\u001b[0m\u001b[0;34m,\u001b[0m \u001b[0mdata\u001b[0m\u001b[0;34m[\u001b[0m\u001b[0;34m'Class'\u001b[0m\u001b[0;34m]\u001b[0m\u001b[0;34m.\u001b[0m\u001b[0mvalues\u001b[0m\u001b[0;34m)\u001b[0m\u001b[0;34m\u001b[0m\u001b[0m\n\u001b[0m",
        "\u001b[0;32m<ipython-input-90-9a3a7126659c>\u001b[0m in \u001b[0;36mplot_estimator\u001b[0;34m(estimator, X, y)\u001b[0m\n\u001b[1;32m      1\u001b[0m \u001b[0;32mdef\u001b[0m \u001b[0mplot_estimator\u001b[0m\u001b[0;34m(\u001b[0m\u001b[0mestimator\u001b[0m\u001b[0;34m,\u001b[0m \u001b[0mX\u001b[0m\u001b[0;34m,\u001b[0m \u001b[0my\u001b[0m\u001b[0;34m)\u001b[0m\u001b[0;34m:\u001b[0m\u001b[0;34m\u001b[0m\u001b[0m\n\u001b[1;32m      2\u001b[0m     \u001b[0mestimator\u001b[0m\u001b[0;34m.\u001b[0m\u001b[0mfit\u001b[0m\u001b[0;34m(\u001b[0m\u001b[0mX\u001b[0m\u001b[0;34m,\u001b[0m \u001b[0my\u001b[0m\u001b[0;34m)\u001b[0m\u001b[0;34m\u001b[0m\u001b[0m\n\u001b[0;32m----> 3\u001b[0;31m     \u001b[0mx_min\u001b[0m\u001b[0;34m,\u001b[0m \u001b[0mx_max\u001b[0m \u001b[0;34m=\u001b[0m \u001b[0mX\u001b[0m\u001b[0;34m[\u001b[0m\u001b[0;34m:\u001b[0m\u001b[0;34m,\u001b[0m \u001b[0;36m0\u001b[0m\u001b[0;34m]\u001b[0m\u001b[0;34m.\u001b[0m\u001b[0mmin\u001b[0m\u001b[0;34m(\u001b[0m\u001b[0;34m)\u001b[0m \u001b[0;34m-\u001b[0m \u001b[0;36m.1\u001b[0m\u001b[0;34m,\u001b[0m \u001b[0mX\u001b[0m\u001b[0;34m[\u001b[0m\u001b[0;34m:\u001b[0m\u001b[0;34m,\u001b[0m \u001b[0;36m0\u001b[0m\u001b[0;34m]\u001b[0m\u001b[0;34m.\u001b[0m\u001b[0mmax\u001b[0m\u001b[0;34m(\u001b[0m\u001b[0;34m)\u001b[0m \u001b[0;34m+\u001b[0m \u001b[0;36m.1\u001b[0m\u001b[0;34m\u001b[0m\u001b[0m\n\u001b[0m\u001b[1;32m      4\u001b[0m     \u001b[0my_min\u001b[0m\u001b[0;34m,\u001b[0m \u001b[0my_max\u001b[0m \u001b[0;34m=\u001b[0m \u001b[0mX\u001b[0m\u001b[0;34m[\u001b[0m\u001b[0;34m:\u001b[0m\u001b[0;34m,\u001b[0m \u001b[0;36m1\u001b[0m\u001b[0;34m]\u001b[0m\u001b[0;34m.\u001b[0m\u001b[0mmin\u001b[0m\u001b[0;34m(\u001b[0m\u001b[0;34m)\u001b[0m \u001b[0;34m-\u001b[0m \u001b[0;36m.1\u001b[0m\u001b[0;34m,\u001b[0m \u001b[0mX\u001b[0m\u001b[0;34m[\u001b[0m\u001b[0;34m:\u001b[0m\u001b[0;34m,\u001b[0m \u001b[0;36m1\u001b[0m\u001b[0;34m]\u001b[0m\u001b[0;34m.\u001b[0m\u001b[0mmax\u001b[0m\u001b[0;34m(\u001b[0m\u001b[0;34m)\u001b[0m \u001b[0;34m+\u001b[0m \u001b[0;36m.1\u001b[0m\u001b[0;34m\u001b[0m\u001b[0m\n\u001b[1;32m      5\u001b[0m     xx, yy = np.meshgrid(np.linspace(x_min, x_max, 50),\n",
        "\u001b[0;32m/Users/isadoranun/anaconda/lib/python2.7/site-packages/pandas/core/frame.pyc\u001b[0m in \u001b[0;36m__getitem__\u001b[0;34m(self, key)\u001b[0m\n\u001b[1;32m   1676\u001b[0m             \u001b[0;32mreturn\u001b[0m \u001b[0mself\u001b[0m\u001b[0;34m.\u001b[0m\u001b[0m_getitem_multilevel\u001b[0m\u001b[0;34m(\u001b[0m\u001b[0mkey\u001b[0m\u001b[0;34m)\u001b[0m\u001b[0;34m\u001b[0m\u001b[0m\n\u001b[1;32m   1677\u001b[0m         \u001b[0;32melse\u001b[0m\u001b[0;34m:\u001b[0m\u001b[0;34m\u001b[0m\u001b[0m\n\u001b[0;32m-> 1678\u001b[0;31m             \u001b[0;32mreturn\u001b[0m \u001b[0mself\u001b[0m\u001b[0;34m.\u001b[0m\u001b[0m_getitem_column\u001b[0m\u001b[0;34m(\u001b[0m\u001b[0mkey\u001b[0m\u001b[0;34m)\u001b[0m\u001b[0;34m\u001b[0m\u001b[0m\n\u001b[0m\u001b[1;32m   1679\u001b[0m \u001b[0;34m\u001b[0m\u001b[0m\n\u001b[1;32m   1680\u001b[0m     \u001b[0;32mdef\u001b[0m \u001b[0m_getitem_column\u001b[0m\u001b[0;34m(\u001b[0m\u001b[0mself\u001b[0m\u001b[0;34m,\u001b[0m \u001b[0mkey\u001b[0m\u001b[0;34m)\u001b[0m\u001b[0;34m:\u001b[0m\u001b[0;34m\u001b[0m\u001b[0m\n",
        "\u001b[0;32m/Users/isadoranun/anaconda/lib/python2.7/site-packages/pandas/core/frame.pyc\u001b[0m in \u001b[0;36m_getitem_column\u001b[0;34m(self, key)\u001b[0m\n\u001b[1;32m   1683\u001b[0m         \u001b[0;31m# get column\u001b[0m\u001b[0;34m\u001b[0m\u001b[0;34m\u001b[0m\u001b[0m\n\u001b[1;32m   1684\u001b[0m         \u001b[0;32mif\u001b[0m \u001b[0mself\u001b[0m\u001b[0;34m.\u001b[0m\u001b[0mcolumns\u001b[0m\u001b[0;34m.\u001b[0m\u001b[0mis_unique\u001b[0m\u001b[0;34m:\u001b[0m\u001b[0;34m\u001b[0m\u001b[0m\n\u001b[0;32m-> 1685\u001b[0;31m             \u001b[0;32mreturn\u001b[0m \u001b[0mself\u001b[0m\u001b[0;34m.\u001b[0m\u001b[0m_get_item_cache\u001b[0m\u001b[0;34m(\u001b[0m\u001b[0mkey\u001b[0m\u001b[0;34m)\u001b[0m\u001b[0;34m\u001b[0m\u001b[0m\n\u001b[0m\u001b[1;32m   1686\u001b[0m \u001b[0;34m\u001b[0m\u001b[0m\n\u001b[1;32m   1687\u001b[0m         \u001b[0;31m# duplicate columns & possible reduce dimensionaility\u001b[0m\u001b[0;34m\u001b[0m\u001b[0;34m\u001b[0m\u001b[0m\n",
        "\u001b[0;32m/Users/isadoranun/anaconda/lib/python2.7/site-packages/pandas/core/generic.pyc\u001b[0m in \u001b[0;36m_get_item_cache\u001b[0;34m(self, item)\u001b[0m\n\u001b[1;32m   1048\u001b[0m         \u001b[0;34m\"\"\" return the cached item, item represents a label indexer \"\"\"\u001b[0m\u001b[0;34m\u001b[0m\u001b[0m\n\u001b[1;32m   1049\u001b[0m         \u001b[0mcache\u001b[0m \u001b[0;34m=\u001b[0m \u001b[0mself\u001b[0m\u001b[0;34m.\u001b[0m\u001b[0m_item_cache\u001b[0m\u001b[0;34m\u001b[0m\u001b[0m\n\u001b[0;32m-> 1050\u001b[0;31m         \u001b[0mres\u001b[0m \u001b[0;34m=\u001b[0m \u001b[0mcache\u001b[0m\u001b[0;34m.\u001b[0m\u001b[0mget\u001b[0m\u001b[0;34m(\u001b[0m\u001b[0mitem\u001b[0m\u001b[0;34m)\u001b[0m\u001b[0;34m\u001b[0m\u001b[0m\n\u001b[0m\u001b[1;32m   1051\u001b[0m         \u001b[0;32mif\u001b[0m \u001b[0mres\u001b[0m \u001b[0;32mis\u001b[0m \u001b[0mNone\u001b[0m\u001b[0;34m:\u001b[0m\u001b[0;34m\u001b[0m\u001b[0m\n\u001b[1;32m   1052\u001b[0m             \u001b[0mvalues\u001b[0m \u001b[0;34m=\u001b[0m \u001b[0mself\u001b[0m\u001b[0;34m.\u001b[0m\u001b[0m_data\u001b[0m\u001b[0;34m.\u001b[0m\u001b[0mget\u001b[0m\u001b[0;34m(\u001b[0m\u001b[0mitem\u001b[0m\u001b[0;34m)\u001b[0m\u001b[0;34m\u001b[0m\u001b[0m\n",
        "\u001b[0;31mTypeError\u001b[0m: unhashable type"
       ]
      }
     ],
     "prompt_number": 91
    },
    {
     "cell_type": "markdown",
     "metadata": {},
     "source": [
      "### pruning for $ \\textit{max_depths} $ for decision tree ###"
     ]
    },
    {
     "cell_type": "code",
     "collapsed": false,
     "input": [
      "\n",
      "kfold = KFold(Xr.shape[0], n_folds=10)\n",
      "accs = []\n",
      "max_depths = range(1, 20)\n",
      "for max_depth in max_depths:\n",
      "    k_accs = []\n",
      "    for train, test in kfold:\n",
      "        Xtrain, Xtest, ytrain, ytest = Xr[train], Xr[test], yr[train], yr[test]\n",
      "        clf = DecisionTreeClassifier(max_depth=max_depth)\n",
      "        clf.fit(Xtrain, ytrain)\n",
      "        ypred = clf.predict(Xtest)\n",
      "        k_accs.append(accuracy_score(ytest, ypred))\n",
      "    accs.append(np.mean(k_accs))\n",
      "# plot the accuracies as a function of max_depth\n",
      "plt.plot(max_depths, accs, linewidth=2.5)"
     ],
     "language": "python",
     "metadata": {},
     "outputs": [
      {
       "metadata": {},
       "output_type": "pyout",
       "prompt_number": 72,
       "text": [
        "[<matplotlib.lines.Line2D at 0x10be0bb50>]"
       ]
      },
      {
       "metadata": {},
       "output_type": "display_data",
       "png": "[encoded data removed]",
       "text": [
        "<matplotlib.figure.Figure at 0x10b407310>"
       ]
      }
     ],
     "prompt_number": 72
    },
    {
     "cell_type": "markdown",
     "metadata": {},
     "source": [
      "### Boosting to tune $ \\textit{number of trees} $ ###\n",
      "\n",
      "Boosting builds lots of small trees. Unlike Random Forests, each tree tries to make up for the deficiencies in the current ensemble. With Boosting, the number of trees is a tuning parameter. Using the same train/test split, we plot the variance of MSE against the number of trees."
     ]
    },
    {
     "cell_type": "code",
     "collapsed": false,
     "input": [
      "num_trees = range(100, 2000, 100)\n",
      "mses = []\n",
      "for num_tree in num_trees:\n",
      "    print (num_tree)\n",
      "    reg = RandomForestClassifier(n_estimators=num_tree)\n",
      "    reg.fit(Xr, yr)\n",
      "    ypred = reg.predict(Xt)\n",
      "    mses.append(mean_squared_error(yt, ypred))\n",
      "plt.plot(num_trees, mses)\n",
      "plt.xlabel(\"#-trees\")\n",
      "plt.ylabel(\"MSE\")"
     ],
     "language": "python",
     "metadata": {},
     "outputs": [
      {
       "output_type": "stream",
       "stream": "stdout",
       "text": [
        "100\n",
        "200"
       ]
      },
      {
       "output_type": "stream",
       "stream": "stdout",
       "text": [
        "\n",
        "300"
       ]
      },
      {
       "output_type": "stream",
       "stream": "stdout",
       "text": [
        "\n",
        "400"
       ]
      },
      {
       "output_type": "stream",
       "stream": "stdout",
       "text": [
        "\n",
        "500"
       ]
      },
      {
       "output_type": "stream",
       "stream": "stdout",
       "text": [
        "\n",
        "600"
       ]
      },
      {
       "output_type": "stream",
       "stream": "stdout",
       "text": [
        "\n",
        "700"
       ]
      },
      {
       "output_type": "stream",
       "stream": "stdout",
       "text": [
        "\n",
        "800"
       ]
      },
      {
       "output_type": "stream",
       "stream": "stdout",
       "text": [
        "\n",
        "900"
       ]
      },
      {
       "output_type": "stream",
       "stream": "stdout",
       "text": [
        "\n",
        "1000"
       ]
      },
      {
       "output_type": "stream",
       "stream": "stdout",
       "text": [
        "\n",
        "1100"
       ]
      },
      {
       "output_type": "stream",
       "stream": "stdout",
       "text": [
        "\n",
        "1200"
       ]
      },
      {
       "output_type": "stream",
       "stream": "stdout",
       "text": [
        "\n",
        "1300"
       ]
      },
      {
       "output_type": "stream",
       "stream": "stdout",
       "text": [
        "\n",
        "1400"
       ]
      },
      {
       "output_type": "stream",
       "stream": "stdout",
       "text": [
        "\n",
        "1500"
       ]
      },
      {
       "output_type": "stream",
       "stream": "stdout",
       "text": [
        "\n",
        "1600"
       ]
      },
      {
       "output_type": "stream",
       "stream": "stdout",
       "text": [
        "\n",
        "1700"
       ]
      },
      {
       "output_type": "stream",
       "stream": "stdout",
       "text": [
        "\n",
        "1800"
       ]
      },
      {
       "output_type": "stream",
       "stream": "stdout",
       "text": [
        "\n",
        "1900"
       ]
      },
      {
       "output_type": "stream",
       "stream": "stdout",
       "text": [
        "\n"
       ]
      },
      {
       "metadata": {},
       "output_type": "pyout",
       "prompt_number": 73,
       "text": [
        "<matplotlib.text.Text at 0x10b2b02d0>"
       ]
      },
      {
       "metadata": {},
       "output_type": "display_data",
       "png": "[encoded data removed]",
       "text": [
        "<matplotlib.figure.Figure at 0x10a5b2c90>"
       ]
      }
     ],
     "prompt_number": 73
    },
    {
     "cell_type": "markdown",
     "metadata": {},
     "source": [
      "### tuning for $ \\textit{max_features} $ ###"
     ]
    },
    {
     "cell_type": "code",
     "collapsed": false,
     "input": [
      "oob_scores = []\n",
      "mses = []\n",
      "num_feats = range(1, 33)\n",
      "for num_feat in num_feats:\n",
      "    clf = RandomForestClassifier(n_estimators=500, max_features=num_feat, oob_score=True)\n",
      "    clf.fit(Xr, yr)\n",
      "    ypred = clf.predict(Xt)\n",
      "    mses.append(mean_squared_error(yt, ypred))\n",
      "    oob_scores.append(clf.oob_score_)\n",
      "plt.plot(num_feats, mses, color='b', linewidth=2.5);\n",
      "plt.plot(num_feats, oob_scores, color='r', linewidth=2.5);\n",
      "plt.xlabel(\"features\")\n",
      "plt.ylabel(\"MSE (blue); OOB (red)\")"
     ],
     "language": "python",
     "metadata": {},
     "outputs": [
      {
       "metadata": {},
       "output_type": "pyout",
       "prompt_number": 74,
       "text": [
        "<matplotlib.text.Text at 0x10f7c0f90>"
       ]
      },
      {
       "metadata": {},
       "output_type": "display_data",
       "png": "[encoded data removed]",
       "text": [
        "<matplotlib.figure.Figure at 0x11043c6d0>"
       ]
      }
     ],
     "prompt_number": 74
    },
    {
     "cell_type": "markdown",
     "metadata": {},
     "source": [
      "### standard scale data to center around 0 ###"
     ]
    },
    {
     "cell_type": "code",
     "collapsed": false,
     "input": [
      "def stand_features(data, feature_names = 'all'):\n",
      "    if feature_names == 'all': \n",
      "        column_names = data.columns\n",
      "        data = pd.DataFrame(StandardScaler().fit_transform(data), columns=column_names)\n",
      "    else:\n",
      "        data[feature_names] = pd.DataFrame(StandardScaler().fit_transform(data), columns=feature_names)\n",
      "    return data       "
     ],
     "language": "python",
     "metadata": {},
     "outputs": [],
     "prompt_number": 56
    },
    {
     "cell_type": "code",
     "collapsed": false,
     "input": [
      "newData = stand_features(train)\n",
      "newData.head()"
     ],
     "language": "python",
     "metadata": {},
     "outputs": [
      {
       "ename": "AttributeError",
       "evalue": "'numpy.ndarray' object has no attribute 'columns'",
       "output_type": "pyerr",
       "traceback": [
        "\u001b[0;31m---------------------------------------------------------------------------\u001b[0m\n\u001b[0;31mAttributeError\u001b[0m                            Traceback (most recent call last)",
        "\u001b[0;32m<ipython-input-57-f299c776d488>\u001b[0m in \u001b[0;36m<module>\u001b[0;34m()\u001b[0m\n\u001b[0;32m----> 1\u001b[0;31m \u001b[0mnewData\u001b[0m \u001b[0;34m=\u001b[0m \u001b[0mstand_features\u001b[0m\u001b[0;34m(\u001b[0m\u001b[0mtrain\u001b[0m\u001b[0;34m)\u001b[0m\u001b[0;34m\u001b[0m\u001b[0m\n\u001b[0m\u001b[1;32m      2\u001b[0m \u001b[0mnewData\u001b[0m\u001b[0;34m.\u001b[0m\u001b[0mhead\u001b[0m\u001b[0;34m(\u001b[0m\u001b[0;34m)\u001b[0m\u001b[0;34m\u001b[0m\u001b[0m\n",
        "\u001b[0;32m<ipython-input-56-9f3c4a89cb56>\u001b[0m in \u001b[0;36mstand_features\u001b[0;34m(data, feature_names)\u001b[0m\n\u001b[1;32m      1\u001b[0m \u001b[0;32mdef\u001b[0m \u001b[0mstand_features\u001b[0m\u001b[0;34m(\u001b[0m\u001b[0mdata\u001b[0m\u001b[0;34m,\u001b[0m \u001b[0mfeature_names\u001b[0m \u001b[0;34m=\u001b[0m \u001b[0;34m'all'\u001b[0m\u001b[0;34m)\u001b[0m\u001b[0;34m:\u001b[0m\u001b[0;34m\u001b[0m\u001b[0m\n\u001b[1;32m      2\u001b[0m     \u001b[0;32mif\u001b[0m \u001b[0mfeature_names\u001b[0m \u001b[0;34m==\u001b[0m \u001b[0;34m'all'\u001b[0m\u001b[0;34m:\u001b[0m\u001b[0;34m\u001b[0m\u001b[0m\n\u001b[0;32m----> 3\u001b[0;31m         \u001b[0mcolumn_names\u001b[0m \u001b[0;34m=\u001b[0m \u001b[0mdata\u001b[0m\u001b[0;34m.\u001b[0m\u001b[0mcolumns\u001b[0m\u001b[0;34m\u001b[0m\u001b[0m\n\u001b[0m\u001b[1;32m      4\u001b[0m         \u001b[0mdata\u001b[0m \u001b[0;34m=\u001b[0m \u001b[0mpd\u001b[0m\u001b[0;34m.\u001b[0m\u001b[0mDataFrame\u001b[0m\u001b[0;34m(\u001b[0m\u001b[0mStandardScaler\u001b[0m\u001b[0;34m(\u001b[0m\u001b[0;34m)\u001b[0m\u001b[0;34m.\u001b[0m\u001b[0mfit_transform\u001b[0m\u001b[0;34m(\u001b[0m\u001b[0mdata\u001b[0m\u001b[0;34m)\u001b[0m\u001b[0;34m,\u001b[0m \u001b[0mcolumns\u001b[0m\u001b[0;34m=\u001b[0m\u001b[0mcolumn_names\u001b[0m\u001b[0;34m)\u001b[0m\u001b[0;34m\u001b[0m\u001b[0m\n\u001b[1;32m      5\u001b[0m     \u001b[0;32melse\u001b[0m\u001b[0;34m:\u001b[0m\u001b[0;34m\u001b[0m\u001b[0m\n",
        "\u001b[0;31mAttributeError\u001b[0m: 'numpy.ndarray' object has no attribute 'columns'"
       ]
      }
     ],
     "prompt_number": 57
    },
    {
     "cell_type": "code",
     "collapsed": false,
     "input": [
      "clf = RandomForestClassifier(n_estimators=100)\n",
      "clf.fit(Xr, yr)\n",
      "\n",
      "print clf.score(Xt, yt)"
     ],
     "language": "python",
     "metadata": {},
     "outputs": [
      {
       "output_type": "stream",
       "stream": "stdout",
       "text": [
        "0.962\n"
       ]
      }
     ],
     "prompt_number": 58
    },
    {
     "cell_type": "markdown",
     "metadata": {},
     "source": [
      "### random forest for feature importance ###"
     ]
    },
    {
     "cell_type": "markdown",
     "metadata": {},
     "source": [
      "** Features used at the top of the tree are used contribute to the final prediction decision of a larger fraction of the input samples. The expected fraction of the samples they contribute to can thus be used as an estimate of the relative importance of the features. **"
     ]
    },
    {
     "cell_type": "code",
     "collapsed": false,
     "input": [
      "# look up the specific algorithm\n",
      "importances = clf.feature_importances_\n",
      "sorted_idx = np.argsort(importances)\n",
      "\n",
      "plt.figure(figsize = [10,12])\n",
      "padding = np.arange(len(features)) + 0.2\n",
      "plt.barh(padding, importances[sorted_idx], align='center')\n",
      "plt.yticks(padding, features[sorted_idx])\n",
      "plt.xlabel(\"Relative Importance\")\n",
      "plt.title(\"Variable Importance\")\n",
      "plt.show()"
     ],
     "language": "python",
     "metadata": {},
     "outputs": [
      {
       "metadata": {},
       "output_type": "display_data",
       "png": "[encoded data removed]",
       "text": [
        "<matplotlib.figure.Figure at 0x10cda8e50>"
       ]
      }
     ],
     "prompt_number": 102
    },
    {
     "cell_type": "markdown",
     "metadata": {},
     "source": [
      "### SVM for classification ###\n",
      "\n",
      "    1. Linear Kernal: no real transformation on the data\n",
      "        Parameters: C (the ratio of how much emphasis we want to put on minimizing the error or maximizing the margin. Large C: Lower bias, higher variance, pro to overfitting)\n",
      "    2. Polynomial Kernal: of degre k on n original features yields O(n^k) expanded features\n",
      "        Parameters: C, degree(of the polynomial), gamma(coefficient of the polynomial)\n",
      "    3. RBF Kernal: normal, yield infinitely many expanded features\n",
      "        Parameters: gamma(1/gamma is the variance)"
     ]
    },
    {
     "cell_type": "code",
     "collapsed": false,
     "input": [
      "clf = svm.linearSVC()\n",
      "clf.fit(Xr, yr)\n",
      "print 'score of accuracy %f' % (clf.score(Xt, yt))"
     ],
     "language": "python",
     "metadata": {},
     "outputs": [
      {
       "ename": "AttributeError",
       "evalue": "'module' object has no attribute 'linearSVC'",
       "output_type": "pyerr",
       "traceback": [
        "\u001b[0;31m---------------------------------------------------------------------------\u001b[0m\n\u001b[0;31mAttributeError\u001b[0m                            Traceback (most recent call last)",
        "\u001b[0;32m<ipython-input-48-02d854a67da1>\u001b[0m in \u001b[0;36m<module>\u001b[0;34m()\u001b[0m\n\u001b[0;32m----> 1\u001b[0;31m \u001b[0mclf\u001b[0m \u001b[0;34m=\u001b[0m \u001b[0msvm\u001b[0m\u001b[0;34m.\u001b[0m\u001b[0mlinearSVC\u001b[0m\u001b[0;34m(\u001b[0m\u001b[0;34m)\u001b[0m\u001b[0;34m\u001b[0m\u001b[0m\n\u001b[0m\u001b[1;32m      2\u001b[0m \u001b[0mclf\u001b[0m\u001b[0;34m.\u001b[0m\u001b[0mfit\u001b[0m\u001b[0;34m(\u001b[0m\u001b[0mXr\u001b[0m\u001b[0;34m,\u001b[0m \u001b[0myr\u001b[0m\u001b[0;34m)\u001b[0m\u001b[0;34m\u001b[0m\u001b[0m\n\u001b[1;32m      3\u001b[0m \u001b[0;32mprint\u001b[0m \u001b[0;34m'score of accuracy %f'\u001b[0m \u001b[0;34m%\u001b[0m \u001b[0;34m(\u001b[0m\u001b[0mclf\u001b[0m\u001b[0;34m.\u001b[0m\u001b[0mscore\u001b[0m\u001b[0;34m(\u001b[0m\u001b[0mXt\u001b[0m\u001b[0;34m,\u001b[0m \u001b[0myt\u001b[0m\u001b[0;34m)\u001b[0m\u001b[0;34m)\u001b[0m\u001b[0;34m\u001b[0m\u001b[0m\n",
        "\u001b[0;31mAttributeError\u001b[0m: 'module' object has no attribute 'linearSVC'"
       ]
      }
     ],
     "prompt_number": 48
    },
    {
     "cell_type": "markdown",
     "metadata": {},
     "source": [
      "### deep learning ###"
     ]
    },
    {
     "cell_type": "code",
     "collapsed": false,
     "input": [
      "import theano\n",
      "import theano.tensor as T"
     ],
     "language": "python",
     "metadata": {},
     "outputs": [],
     "prompt_number": 4
    },
    {
     "cell_type": "code",
     "collapsed": false,
     "input": [
      "theano.__version__\n",
      "print theano.config.device"
     ],
     "language": "python",
     "metadata": {},
     "outputs": [
      {
       "output_type": "stream",
       "stream": "stdout",
       "text": [
        "cpu\n"
       ]
      }
     ],
     "prompt_number": 5
    },
    {
     "cell_type": "code",
     "collapsed": false,
     "input": [
      "pd.reset_option('display.max_rows')\n",
      "\n",
      "path ='/Users/isadoranun/Desktop/Features/F_1/'\n",
      "\n",
      "\n",
      "data1 = pd.read_csv('F_1_3319.csv',index_col=0)\n",
      "data2 = pd.read_csv('F_1_3319_2.csv',index_col=0)\n",
      "\n",
      "data1.Rcs = data2.Rcs\n",
      "\n",
      "features = data2.columns[1:-1]\n",
      "data2 = data2[features]\n",
      "\n",
      "concatenate = pd.merge(data1,data2, left_index=True, right_index=True, how='outer')\n",
      "concatenate.head()\n"
     ],
     "language": "python",
     "metadata": {},
     "outputs": [
      {
       "html": [
        "<div style=\"max-height:1000px;max-width:1500px;overflow:auto;\">\n",
        "<table border=\"1\" class=\"dataframe\">\n",
        "  <thead>\n",
        "    <tr style=\"text-align: right;\">\n",
        "      <th></th>\n",
        "      <th>Amplitude</th>\n",
        "      <th>AndersonDarling</th>\n",
        "      <th>B_R</th>\n",
        "      <th>Beyond1Std</th>\n",
        "      <th>Bmean</th>\n",
        "      <th>CAR_sigma</th>\n",
        "      <th>CAR_tau</th>\n",
        "      <th>CAR_tmean</th>\n",
        "      <th>Con</th>\n",
        "      <th>Eta_B_R</th>\n",
        "      <th>...</th>\n",
        "      <th>Std</th>\n",
        "      <th>StetsonJ</th>\n",
        "      <th>StetsonK</th>\n",
        "      <th>StetsonK_AC</th>\n",
        "      <th>StetsonL</th>\n",
        "      <th>autocor</th>\n",
        "      <th>automean</th>\n",
        "      <th>meanvariance</th>\n",
        "      <th>Psi_CS</th>\n",
        "      <th>Psi_eta</th>\n",
        "    </tr>\n",
        "  </thead>\n",
        "  <tbody>\n",
        "    <tr>\n",
        "      <th>1.3319.23</th>\n",
        "      <td> 0.42450</td>\n",
        "      <td> 1</td>\n",
        "      <td> 0.249543</td>\n",
        "      <td> 0.196115</td>\n",
        "      <td>-4.938551</td>\n",
        "      <td>-0.165672</td>\n",
        "      <td>   1.206547</td>\n",
        "      <td>-4.093127</td>\n",
        "      <td> 0.000000</td>\n",
        "      <td> 6818.615959</td>\n",
        "      <td>...</td>\n",
        "      <td> 0.199041</td>\n",
        "      <td> 0.187266</td>\n",
        "      <td> 0.637712</td>\n",
        "      <td> 0.457122</td>\n",
        "      <td> 0.100231</td>\n",
        "      <td>  2</td>\n",
        "      <td>-4.938551</td>\n",
        "      <td>-0.040304</td>\n",
        "      <td> 0.085552</td>\n",
        "      <td> 1.836131</td>\n",
        "    </tr>\n",
        "    <tr>\n",
        "      <th>1.3319.11</th>\n",
        "      <td> 0.06800</td>\n",
        "      <td> 1</td>\n",
        "      <td>-0.409863</td>\n",
        "      <td> 0.264388</td>\n",
        "      <td>-7.432300</td>\n",
        "      <td>-0.028999</td>\n",
        "      <td>   3.137702</td>\n",
        "      <td>-2.368708</td>\n",
        "      <td> 0.004505</td>\n",
        "      <td> 3426.229184</td>\n",
        "      <td>...</td>\n",
        "      <td> 0.035677</td>\n",
        "      <td> 0.435276</td>\n",
        "      <td> 0.716623</td>\n",
        "      <td> 0.875010</td>\n",
        "      <td> 0.196524</td>\n",
        "      <td> 13</td>\n",
        "      <td>-7.432300</td>\n",
        "      <td>-0.004800</td>\n",
        "      <td> 0.151780</td>\n",
        "      <td> 1.644436</td>\n",
        "    </tr>\n",
        "    <tr>\n",
        "      <th>1.3319.42</th>\n",
        "      <td> 0.73575</td>\n",
        "      <td> 1</td>\n",
        "      <td>-0.278173</td>\n",
        "      <td> 0.229023</td>\n",
        "      <td>-4.117237</td>\n",
        "      <td> 0.226868</td>\n",
        "      <td>   2.019573</td>\n",
        "      <td>-2.038667</td>\n",
        "      <td> 0.000000</td>\n",
        "      <td> 2511.253694</td>\n",
        "      <td>...</td>\n",
        "      <td> 0.360103</td>\n",
        "      <td> 0.213843</td>\n",
        "      <td> 0.707300</td>\n",
        "      <td> 0.482501</td>\n",
        "      <td> 0.136990</td>\n",
        "      <td>  2</td>\n",
        "      <td>-4.117237</td>\n",
        "      <td>-0.087462</td>\n",
        "      <td> 0.059685</td>\n",
        "      <td> 1.871534</td>\n",
        "    </tr>\n",
        "    <tr>\n",
        "      <th>1.3319.33</th>\n",
        "      <td> 0.84100</td>\n",
        "      <td> 1</td>\n",
        "      <td>-0.281362</td>\n",
        "      <td> 0.232558</td>\n",
        "      <td>-4.056352</td>\n",
        "      <td> 0.019112</td>\n",
        "      <td> 251.327957</td>\n",
        "      <td>-0.016140</td>\n",
        "      <td> 0.000000</td>\n",
        "      <td>  632.585112</td>\n",
        "      <td>...</td>\n",
        "      <td> 0.440170</td>\n",
        "      <td> 0.325442</td>\n",
        "      <td> 0.727188</td>\n",
        "      <td> 0.464172</td>\n",
        "      <td> 0.213371</td>\n",
        "      <td>  2</td>\n",
        "      <td>-4.056352</td>\n",
        "      <td>-0.108514</td>\n",
        "      <td> 0.058776</td>\n",
        "      <td> 1.958520</td>\n",
        "    </tr>\n",
        "    <tr>\n",
        "      <th>1.3319.34</th>\n",
        "      <td> 0.35600</td>\n",
        "      <td> 1</td>\n",
        "      <td>-0.720231</td>\n",
        "      <td> 0.205993</td>\n",
        "      <td>-4.844879</td>\n",
        "      <td>-0.154069</td>\n",
        "      <td>   0.974836</td>\n",
        "      <td>-4.969945</td>\n",
        "      <td> 0.000938</td>\n",
        "      <td> 5246.245871</td>\n",
        "      <td>...</td>\n",
        "      <td> 0.179034</td>\n",
        "      <td> 0.181015</td>\n",
        "      <td> 0.674830</td>\n",
        "      <td> 0.407155</td>\n",
        "      <td> 0.086707</td>\n",
        "      <td>  2</td>\n",
        "      <td>-4.844879</td>\n",
        "      <td>-0.036953</td>\n",
        "      <td> 0.047025</td>\n",
        "      <td> 1.992605</td>\n",
        "    </tr>\n",
        "  </tbody>\n",
        "</table>\n",
        "<p>5 rows \u00d7 41 columns</p>\n",
        "</div>"
       ],
       "metadata": {},
       "output_type": "pyout",
       "prompt_number": 113,
       "text": [
        "           Amplitude  AndersonDarling       B_R  Beyond1Std     Bmean  \\\n",
        "1.3319.23    0.42450                1  0.249543    0.196115 -4.938551   \n",
        "1.3319.11    0.06800                1 -0.409863    0.264388 -7.432300   \n",
        "1.3319.42    0.73575                1 -0.278173    0.229023 -4.117237   \n",
        "1.3319.33    0.84100                1 -0.281362    0.232558 -4.056352   \n",
        "1.3319.34    0.35600                1 -0.720231    0.205993 -4.844879   \n",
        "\n",
        "           CAR_sigma     CAR_tau  CAR_tmean       Con      Eta_B_R  \\\n",
        "1.3319.23  -0.165672    1.206547  -4.093127  0.000000  6818.615959   \n",
        "1.3319.11  -0.028999    3.137702  -2.368708  0.004505  3426.229184   \n",
        "1.3319.42   0.226868    2.019573  -2.038667  0.000000  2511.253694   \n",
        "1.3319.33   0.019112  251.327957  -0.016140  0.000000   632.585112   \n",
        "1.3319.34  -0.154069    0.974836  -4.969945  0.000938  5246.245871   \n",
        "\n",
        "              ...            Std  StetsonJ  StetsonK  StetsonK_AC  StetsonL  \\\n",
        "1.3319.23     ...       0.199041  0.187266  0.637712     0.457122  0.100231   \n",
        "1.3319.11     ...       0.035677  0.435276  0.716623     0.875010  0.196524   \n",
        "1.3319.42     ...       0.360103  0.213843  0.707300     0.482501  0.136990   \n",
        "1.3319.33     ...       0.440170  0.325442  0.727188     0.464172  0.213371   \n",
        "1.3319.34     ...       0.179034  0.181015  0.674830     0.407155  0.086707   \n",
        "\n",
        "           autocor  automean  meanvariance    Psi_CS   Psi_eta  \n",
        "1.3319.23        2 -4.938551     -0.040304  0.085552  1.836131  \n",
        "1.3319.11       13 -7.432300     -0.004800  0.151780  1.644436  \n",
        "1.3319.42        2 -4.117237     -0.087462  0.059685  1.871534  \n",
        "1.3319.33        2 -4.056352     -0.108514  0.058776  1.958520  \n",
        "1.3319.34        2 -4.844879     -0.036953  0.047025  1.992605  \n",
        "\n",
        "[5 rows x 41 columns]"
       ]
      }
     ],
     "prompt_number": 113
    },
    {
     "cell_type": "code",
     "collapsed": false,
     "input": [
      "data.to_csv('yelp_academic_dataset_user.csv') "
     ],
     "language": "python",
     "metadata": {},
     "outputs": [],
     "prompt_number": 10
    },
    {
     "cell_type": "code",
     "collapsed": false,
     "input": [
      "data.head()"
     ],
     "language": "python",
     "metadata": {},
     "outputs": [
      {
       "html": [
        "<div style=\"max-height:1000px;max-width:1500px;overflow:auto;\">\n",
        "<table border=\"1\" class=\"dataframe\">\n",
        "  <thead>\n",
        "    <tr style=\"text-align: right;\">\n",
        "      <th></th>\n",
        "      <th>Amplitude</th>\n",
        "      <th>AndersonDarling</th>\n",
        "      <th>Autocor_length</th>\n",
        "      <th>Beyond1Std</th>\n",
        "      <th>CAR_sigma</th>\n",
        "      <th>CAR_tau</th>\n",
        "      <th>CAR_tmean</th>\n",
        "      <th>Color</th>\n",
        "      <th>Con</th>\n",
        "      <th>Eta_color</th>\n",
        "      <th>...</th>\n",
        "      <th>Rcs</th>\n",
        "      <th>Skew</th>\n",
        "      <th>SlottedA_length</th>\n",
        "      <th>SmallKurtosis</th>\n",
        "      <th>Std</th>\n",
        "      <th>StetsonJ</th>\n",
        "      <th>StetsonK</th>\n",
        "      <th>StetsonK_AC</th>\n",
        "      <th>StetsonL</th>\n",
        "      <th>Class</th>\n",
        "    </tr>\n",
        "  </thead>\n",
        "  <tbody>\n",
        "    <tr>\n",
        "      <th>80.6708.5218</th>\n",
        "      <td> 0.12700</td>\n",
        "      <td> 1</td>\n",
        "      <td>  44</td>\n",
        "      <td> 0.278136</td>\n",
        "      <td>-0.013622</td>\n",
        "      <td>  37.158804</td>\n",
        "      <td>-0.195121</td>\n",
        "      <td>-0.356996</td>\n",
        "      <td> 0.004307</td>\n",
        "      <td> 4478.196740</td>\n",
        "      <td>...</td>\n",
        "      <td> 0.275917</td>\n",
        "      <td> 0.512233</td>\n",
        "      <td>   0.026157</td>\n",
        "      <td> 1.389718</td>\n",
        "      <td> 0.063573</td>\n",
        "      <td> 0.439091</td>\n",
        "      <td> 0.763764</td>\n",
        "      <td> 0.816338</td>\n",
        "      <td> 0.274887</td>\n",
        "      <td> 1</td>\n",
        "    </tr>\n",
        "    <tr>\n",
        "      <th>48.2742.1409</th>\n",
        "      <td> 0.16525</td>\n",
        "      <td> 1</td>\n",
        "      <td>   1</td>\n",
        "      <td> 0.185185</td>\n",
        "      <td>-0.053792</td>\n",
        "      <td>   3.563116</td>\n",
        "      <td>-1.814895</td>\n",
        "      <td>-0.520699</td>\n",
        "      <td> 0.000000</td>\n",
        "      <td>   16.673054</td>\n",
        "      <td>...</td>\n",
        "      <td> 0.207167</td>\n",
        "      <td>-1.929378</td>\n",
        "      <td>   1.024734</td>\n",
        "      <td> 7.272569</td>\n",
        "      <td> 0.076998</td>\n",
        "      <td> 0.006110</td>\n",
        "      <td> 0.673988</td>\n",
        "      <td> 0.721044</td>\n",
        "      <td> 0.003726</td>\n",
        "      <td> 1</td>\n",
        "    </tr>\n",
        "    <tr>\n",
        "      <th>53.3970.353</th>\n",
        "      <td> 0.14600</td>\n",
        "      <td> 1</td>\n",
        "      <td>  19</td>\n",
        "      <td> 0.291367</td>\n",
        "      <td>-0.003886</td>\n",
        "      <td> 490.231454</td>\n",
        "      <td>-0.010910</td>\n",
        "      <td>-0.435427</td>\n",
        "      <td> 0.000000</td>\n",
        "      <td> 2628.279811</td>\n",
        "      <td>...</td>\n",
        "      <td> 0.300025</td>\n",
        "      <td> 0.387355</td>\n",
        "      <td>  15.233322</td>\n",
        "      <td> 0.318671</td>\n",
        "      <td> 0.072600</td>\n",
        "      <td> 0.399034</td>\n",
        "      <td> 0.769279</td>\n",
        "      <td> 0.765331</td>\n",
        "      <td> 0.280160</td>\n",
        "      <td> 1</td>\n",
        "    </tr>\n",
        "    <tr>\n",
        "      <th>14.8863.660</th>\n",
        "      <td> 0.13200</td>\n",
        "      <td> 1</td>\n",
        "      <td> 146</td>\n",
        "      <td> 0.316737</td>\n",
        "      <td>-0.020506</td>\n",
        "      <td>  23.280406</td>\n",
        "      <td>-0.291598</td>\n",
        "      <td>-0.260269</td>\n",
        "      <td> 0.001062</td>\n",
        "      <td> 2390.816592</td>\n",
        "      <td>...</td>\n",
        "      <td> 0.372110</td>\n",
        "      <td>-0.547138</td>\n",
        "      <td> 306.215875</td>\n",
        "      <td>-0.031463</td>\n",
        "      <td> 0.072473</td>\n",
        "      <td> 0.721305</td>\n",
        "      <td> 0.814942</td>\n",
        "      <td> 0.743765</td>\n",
        "      <td> 0.606026</td>\n",
        "      <td> 1</td>\n",
        "    </tr>\n",
        "    <tr>\n",
        "      <th>11.8751.968</th>\n",
        "      <td> 0.48125</td>\n",
        "      <td> 1</td>\n",
        "      <td>  41</td>\n",
        "      <td> 0.251832</td>\n",
        "      <td>-0.016820</td>\n",
        "      <td> 216.659786</td>\n",
        "      <td>-0.022690</td>\n",
        "      <td> 0.386472</td>\n",
        "      <td> 0.003670</td>\n",
        "      <td>  577.076785</td>\n",
        "      <td>...</td>\n",
        "      <td> 0.283297</td>\n",
        "      <td> 0.464646</td>\n",
        "      <td>   0.319352</td>\n",
        "      <td> 1.554634</td>\n",
        "      <td> 0.245696</td>\n",
        "      <td> 0.599099</td>\n",
        "      <td> 0.778154</td>\n",
        "      <td> 0.718825</td>\n",
        "      <td> 0.443962</td>\n",
        "      <td> 1</td>\n",
        "    </tr>\n",
        "  </tbody>\n",
        "</table>\n",
        "<p>5 rows \u00d7 65 columns</p>\n",
        "</div>"
       ],
       "metadata": {},
       "output_type": "pyout",
       "prompt_number": 11,
       "text": [
        "              Amplitude  AndersonDarling  Autocor_length  Beyond1Std  \\\n",
        "80.6708.5218    0.12700                1              44    0.278136   \n",
        "48.2742.1409    0.16525                1               1    0.185185   \n",
        "53.3970.353     0.14600                1              19    0.291367   \n",
        "14.8863.660     0.13200                1             146    0.316737   \n",
        "11.8751.968     0.48125                1              41    0.251832   \n",
        "\n",
        "              CAR_sigma     CAR_tau  CAR_tmean     Color       Con  \\\n",
        "80.6708.5218  -0.013622   37.158804  -0.195121 -0.356996  0.004307   \n",
        "48.2742.1409  -0.053792    3.563116  -1.814895 -0.520699  0.000000   \n",
        "53.3970.353   -0.003886  490.231454  -0.010910 -0.435427  0.000000   \n",
        "14.8863.660   -0.020506   23.280406  -0.291598 -0.260269  0.001062   \n",
        "11.8751.968   -0.016820  216.659786  -0.022690  0.386472  0.003670   \n",
        "\n",
        "                Eta_color     ...            Rcs      Skew  SlottedA_length  \\\n",
        "80.6708.5218  4478.196740     ...       0.275917  0.512233         0.026157   \n",
        "48.2742.1409    16.673054     ...       0.207167 -1.929378         1.024734   \n",
        "53.3970.353   2628.279811     ...       0.300025  0.387355        15.233322   \n",
        "14.8863.660   2390.816592     ...       0.372110 -0.547138       306.215875   \n",
        "11.8751.968    577.076785     ...       0.283297  0.464646         0.319352   \n",
        "\n",
        "              SmallKurtosis       Std  StetsonJ  StetsonK  StetsonK_AC  \\\n",
        "80.6708.5218       1.389718  0.063573  0.439091  0.763764     0.816338   \n",
        "48.2742.1409       7.272569  0.076998  0.006110  0.673988     0.721044   \n",
        "53.3970.353        0.318671  0.072600  0.399034  0.769279     0.765331   \n",
        "14.8863.660       -0.031463  0.072473  0.721305  0.814942     0.743765   \n",
        "11.8751.968        1.554634  0.245696  0.599099  0.778154     0.718825   \n",
        "\n",
        "              StetsonL  Class  \n",
        "80.6708.5218  0.274887      1  \n",
        "48.2742.1409  0.003726      1  \n",
        "53.3970.353   0.280160      1  \n",
        "14.8863.660   0.606026      1  \n",
        "11.8751.968   0.443962      1  \n",
        "\n",
        "[5 rows x 65 columns]"
       ]
      }
     ],
     "prompt_number": 11
    },
    {
     "cell_type": "code",
     "collapsed": false,
     "input": [],
     "language": "python",
     "metadata": {},
     "outputs": []
    }
   ],
   "metadata": {}
  }
 ]
}