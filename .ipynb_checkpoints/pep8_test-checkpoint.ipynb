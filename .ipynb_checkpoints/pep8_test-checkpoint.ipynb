{
 "metadata": {
  "name": "",
  "signature": "sha256:88582879dfb90f1fa5df2f59b530e7d78285061d90dd6fd95d675babac3be987"
 },
 "nbformat": 3,
 "nbformat_minor": 0,
 "worksheets": [
  {
   "cells": [
    {
     "cell_type": "markdown",
     "metadata": {},
     "source": [
      "This script will be used to check that the code functionality doesn\u00b4t change when updating to the pep8 standard"
     ]
    },
    {
     "cell_type": "code",
     "collapsed": false,
     "input": [
      "from Feature import FeatureSpace\n",
      "\n",
      "from import_lightcurve import ReadLC_MACHO\n",
      "from alignLC import Align_LC\n",
      "from PreprocessLC import Preprocess_LC\n",
      "from create_table import Table\n",
      "\n",
      "import pandas as pd\n",
      "\n",
      "%load_ext autoreload\n",
      "%autoreload 2"
     ],
     "language": "python",
     "metadata": {},
     "outputs": [],
     "prompt_number": 1
    },
    {
     "cell_type": "code",
     "collapsed": false,
     "input": [
      "lc_B = ReadLC_MACHO('lc_58.6272.729.B.mjd')\n",
      "lc_R = ReadLC_MACHO('lc_58.6272.729.R.mjd')\n",
      "\n",
      "[data, mjd, error] = lc_B.ReadLC()\n",
      "[data2, mjd2, error2] = lc_R.ReadLC()\n",
      "\n",
      "#We preprocess the data\n",
      "preproccesed_data = Preprocess_LC(data, mjd, error)\n",
      "[data, mjd, error] = preproccesed_data.Preprocess()\n",
      "\n",
      "preproccesed_data = Preprocess_LC(data2, mjd2, error2)\n",
      "[second_data, mjd2, error2] = preproccesed_data.Preprocess()\n",
      "\n",
      "#We synchronize the data\n",
      "if len(data) != len(second_data):\n",
      "    [aligned_data, aligned_second_data, aligned_mjd] = Align_LC(mjd, mjd2, data, second_data, error, error2)\n",
      "    \n",
      "FS = FeatureSpace(category='all',featureList=None, Automean=[0,0], StetsonL=[aligned_second_data, aligned_data] ,  Color=second_data, Beyond1Std=error, StetsonJ=[aligned_second_data, aligned_data], MaxSlope=mjd, LinearTrend=mjd, Eta_color=[aligned_second_data, aligned_data, aligned_mjd], Eta_e=mjd, Q31_color=[aligned_second_data, aligned_data], PeriodLS=mjd, Psi_CS=mjd, CAR_sigma=[mjd, error], SlottedA_length = [mjd, 4])\n",
      "FS = FS.calculateFeature(data)\n",
      "results = FS.result(method='array').tolist()"
     ],
     "language": "python",
     "metadata": {},
     "outputs": [
      {
       "output_type": "stream",
       "stream": "stderr",
       "text": [
        "/usr/local/lib/python2.7/site-packages/scipy/optimize/_minimize.py:369: RuntimeWarning: Method nelder-mead cannot handle constraints nor bounds.\n",
        "  RuntimeWarning)\n"
       ]
      }
     ],
     "prompt_number": 2
    },
    {
     "cell_type": "code",
     "collapsed": false,
     "input": [
      "# Calculate the feature values\n",
      "calculated_values = pd.DataFrame(results, columns=['Value'], index=FS.result(method= 'features'), )\n",
      "calculated_values = calculated_values.applymap(lambda x: \"{0:.4f}\".format(x))\n",
      "calculated_values['Value'] = calculated_values['Value'].astype(float)\n",
      "\n",
      "# Check if the value of any feature has changed from the original\n",
      "old_values = pd.read_csv('pep8_test.csv', index_col=0)\n",
      "test = calculated_values == old_values\n",
      "test[test.Value == False]"
     ],
     "language": "python",
     "metadata": {},
     "outputs": [
      {
       "html": [
        "<div style=\"max-height:1000px;max-width:1500px;overflow:auto;\">\n",
        "<table border=\"1\" class=\"dataframe\">\n",
        "  <thead>\n",
        "    <tr style=\"text-align: right;\">\n",
        "      <th></th>\n",
        "      <th>Value</th>\n",
        "    </tr>\n",
        "  </thead>\n",
        "  <tbody>\n",
        "  </tbody>\n",
        "</table>\n",
        "</div>"
       ],
       "metadata": {},
       "output_type": "pyout",
       "prompt_number": 3,
       "text": [
        "Empty DataFrame\n",
        "Columns: [Value]\n",
        "Index: []"
       ]
      }
     ],
     "prompt_number": 3
    },
    {
     "cell_type": "code",
     "collapsed": false,
     "input": [],
     "language": "python",
     "metadata": {},
     "outputs": [],
     "prompt_number": 25
    },
    {
     "cell_type": "code",
     "collapsed": false,
     "input": [],
     "language": "python",
     "metadata": {},
     "outputs": []
    }
   ],
   "metadata": {}
  }
 ]
}